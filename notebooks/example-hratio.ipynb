{
 "cells": [
  {
   "cell_type": "code",
   "execution_count": 1,
   "metadata": {},
   "outputs": [],
   "source": [
    "from kaiba import bootlier\n",
    "import numpy as np\n",
    "import matplotlib.pyplot as plt\n",
    "%matplotlib inline"
   ]
  },
  {
   "cell_type": "markdown",
   "metadata": {},
   "source": [
    "## Initialize normal and outlier bootliers for uniform noisy distribution"
   ]
  },
  {
   "cell_type": "code",
   "execution_count": 2,
   "metadata": {},
   "outputs": [],
   "source": [
    "u_normal = np.random.uniform(low=0,high=1,size=100)\n",
    "u_odd = np.random.uniform(low=0,high=1,size=100)\n",
    "u_odd[int(len(u_odd)*0.5)]=np.mean(u_odd)+10*np.std(u_odd)  # 10 sigma outlier in the middle\n",
    "\n",
    "a = bootlier.boot(u_normal, 100, 1000, 2)\n",
    "b = bootlier.boot(u_odd, 100, 1000, 2)"
   ]
  },
  {
   "cell_type": "code",
   "execution_count": 3,
   "metadata": {},
   "outputs": [
    {
     "data": {
      "text/plain": [
       "[<matplotlib.lines.Line2D at 0x7fc91fadefd0>]"
      ]
     },
     "execution_count": 3,
     "metadata": {},
     "output_type": "execute_result"
    },
    {
     "data": {
      "image/png": "[encoded data removed]",
      "text/plain": [
       "<matplotlib.figure.Figure at 0x7fc9203b1208>"
      ]
     },
     "metadata": {},
     "output_type": "display_data"
    }
   ],
   "source": [
    "plt.plot(u_normal)\n",
    "plt.plot(u_odd)"
   ]
  },
  {
   "cell_type": "code",
   "execution_count": 4,
   "metadata": {},
   "outputs": [
    {
     "data": {
      "text/html": [
       "<div>\n",
       "<table border=\"1\" class=\"dataframe\">\n",
       "  <thead>\n",
       "    <tr style=\"text-align: right;\">\n",
       "      <th></th>\n",
       "      <th>sample</th>\n",
       "      <th>mean</th>\n",
       "      <th>trimmed_mean</th>\n",
       "      <th>mtm</th>\n",
       "    </tr>\n",
       "  </thead>\n",
       "  <tbody>\n",
       "    <tr>\n",
       "      <th>0</th>\n",
       "      <td>[0.0229742086165, 0.0230180155249, 0.033971037...</td>\n",
       "      <td>0.523150</td>\n",
       "      <td>0.523704</td>\n",
       "      <td>-0.000554</td>\n",
       "    </tr>\n",
       "    <tr>\n",
       "      <th>1</th>\n",
       "      <td>[0.0230180155249, 0.0339710378454, 0.033971037...</td>\n",
       "      <td>0.583046</td>\n",
       "      <td>0.585940</td>\n",
       "      <td>-0.002894</td>\n",
       "    </tr>\n",
       "    <tr>\n",
       "      <th>2</th>\n",
       "      <td>[0.0229742086165, 0.0229742086165, 0.033971037...</td>\n",
       "      <td>0.648201</td>\n",
       "      <td>0.602443</td>\n",
       "      <td>0.045758</td>\n",
       "    </tr>\n",
       "    <tr>\n",
       "      <th>3</th>\n",
       "      <td>[0.0229742086165, 0.0339710378454, 0.080121819...</td>\n",
       "      <td>0.589809</td>\n",
       "      <td>0.592993</td>\n",
       "      <td>-0.003184</td>\n",
       "    </tr>\n",
       "    <tr>\n",
       "      <th>4</th>\n",
       "      <td>[0.0229742086165, 0.0230180155249, 0.033971037...</td>\n",
       "      <td>0.618378</td>\n",
       "      <td>0.571377</td>\n",
       "      <td>0.047001</td>\n",
       "    </tr>\n",
       "    <tr>\n",
       "      <th>5</th>\n",
       "      <td>[0.0229742086165, 0.0348921446769, 0.080121819...</td>\n",
       "      <td>0.571152</td>\n",
       "      <td>0.573614</td>\n",
       "      <td>-0.002463</td>\n",
       "    </tr>\n",
       "    <tr>\n",
       "      <th>6</th>\n",
       "      <td>[0.0230180155249, 0.0230180155249, 0.062073653...</td>\n",
       "      <td>0.548123</td>\n",
       "      <td>0.549676</td>\n",
       "      <td>-0.001553</td>\n",
       "    </tr>\n",
       "    <tr>\n",
       "      <th>7</th>\n",
       "      <td>[0.0229742086165, 0.0229742086165, 0.023018015...</td>\n",
       "      <td>0.579597</td>\n",
       "      <td>0.530981</td>\n",
       "      <td>0.048616</td>\n",
       "    </tr>\n",
       "    <tr>\n",
       "      <th>8</th>\n",
       "      <td>[0.0229742086165, 0.0229742086165, 0.022974208...</td>\n",
       "      <td>0.549279</td>\n",
       "      <td>0.550881</td>\n",
       "      <td>-0.001602</td>\n",
       "    </tr>\n",
       "    <tr>\n",
       "      <th>9</th>\n",
       "      <td>[0.0229742086165, 0.0229742086165, 0.062073653...</td>\n",
       "      <td>0.625160</td>\n",
       "      <td>0.578443</td>\n",
       "      <td>0.046718</td>\n",
       "    </tr>\n",
       "    <tr>\n",
       "      <th>10</th>\n",
       "      <td>[0.0230180155249, 0.0230180155249, 0.033971037...</td>\n",
       "      <td>0.567785</td>\n",
       "      <td>0.570166</td>\n",
       "      <td>-0.002380</td>\n",
       "    </tr>\n",
       "    <tr>\n",
       "      <th>11</th>\n",
       "      <td>[0.0229742086165, 0.0230180155249, 0.033971037...</td>\n",
       "      <td>0.517089</td>\n",
       "      <td>0.517423</td>\n",
       "      <td>-0.000334</td>\n",
       "    </tr>\n",
       "    <tr>\n",
       "      <th>12</th>\n",
       "      <td>[0.0339710378454, 0.0348921446769, 0.034892144...</td>\n",
       "      <td>0.591843</td>\n",
       "      <td>0.569276</td>\n",
       "      <td>0.022567</td>\n",
       "    </tr>\n",
       "    <tr>\n",
       "      <th>13</th>\n",
       "      <td>[0.0229742086165, 0.0230180155249, 0.033971037...</td>\n",
       "      <td>0.615517</td>\n",
       "      <td>0.568397</td>\n",
       "      <td>0.047120</td>\n",
       "    </tr>\n",
       "    <tr>\n",
       "      <th>14</th>\n",
       "      <td>[0.0339710378454, 0.0348921446769, 0.062073653...</td>\n",
       "      <td>0.572665</td>\n",
       "      <td>0.549266</td>\n",
       "      <td>0.023399</td>\n",
       "    </tr>\n",
       "    <tr>\n",
       "      <th>15</th>\n",
       "      <td>[0.0230180155249, 0.0230180155249, 0.023018015...</td>\n",
       "      <td>0.554009</td>\n",
       "      <td>0.530063</td>\n",
       "      <td>0.023946</td>\n",
       "    </tr>\n",
       "    <tr>\n",
       "      <th>16</th>\n",
       "      <td>[0.0229742086165, 0.0230180155249, 0.033971037...</td>\n",
       "      <td>0.596983</td>\n",
       "      <td>0.574869</td>\n",
       "      <td>0.022115</td>\n",
       "    </tr>\n",
       "    <tr>\n",
       "      <th>17</th>\n",
       "      <td>[0.0229742086165, 0.0229742086165, 0.062073653...</td>\n",
       "      <td>0.640529</td>\n",
       "      <td>0.594452</td>\n",
       "      <td>0.046077</td>\n",
       "    </tr>\n",
       "    <tr>\n",
       "      <th>18</th>\n",
       "      <td>[0.0229742086165, 0.0230180155249, 0.033971037...</td>\n",
       "      <td>0.574518</td>\n",
       "      <td>0.577163</td>\n",
       "      <td>-0.002645</td>\n",
       "    </tr>\n",
       "    <tr>\n",
       "      <th>19</th>\n",
       "      <td>[0.0229742086165, 0.0229742086165, 0.033971037...</td>\n",
       "      <td>0.550166</td>\n",
       "      <td>0.551797</td>\n",
       "      <td>-0.001631</td>\n",
       "    </tr>\n",
       "    <tr>\n",
       "      <th>20</th>\n",
       "      <td>[0.0230180155249, 0.0339710378454, 0.034892144...</td>\n",
       "      <td>0.590000</td>\n",
       "      <td>0.567439</td>\n",
       "      <td>0.022561</td>\n",
       "    </tr>\n",
       "    <tr>\n",
       "      <th>21</th>\n",
       "      <td>[0.0230180155249, 0.0230180155249, 0.033971037...</td>\n",
       "      <td>0.546313</td>\n",
       "      <td>0.547791</td>\n",
       "      <td>-0.001478</td>\n",
       "    </tr>\n",
       "    <tr>\n",
       "      <th>22</th>\n",
       "      <td>[0.0339710378454, 0.0339710378454, 0.033971037...</td>\n",
       "      <td>0.565904</td>\n",
       "      <td>0.542225</td>\n",
       "      <td>0.023679</td>\n",
       "    </tr>\n",
       "    <tr>\n",
       "      <th>23</th>\n",
       "      <td>[0.0229742086165, 0.0229742086165, 0.022974208...</td>\n",
       "      <td>0.537502</td>\n",
       "      <td>0.538605</td>\n",
       "      <td>-0.001103</td>\n",
       "    </tr>\n",
       "    <tr>\n",
       "      <th>24</th>\n",
       "      <td>[0.0339710378454, 0.0339710378454, 0.033971037...</td>\n",
       "      <td>0.691819</td>\n",
       "      <td>0.647650</td>\n",
       "      <td>0.044169</td>\n",
       "    </tr>\n",
       "    <tr>\n",
       "      <th>25</th>\n",
       "      <td>[0.0230180155249, 0.0230180155249, 0.033971037...</td>\n",
       "      <td>0.561959</td>\n",
       "      <td>0.512607</td>\n",
       "      <td>0.049352</td>\n",
       "    </tr>\n",
       "    <tr>\n",
       "      <th>26</th>\n",
       "      <td>[0.0229742086165, 0.0339710378454, 0.034892144...</td>\n",
       "      <td>0.568969</td>\n",
       "      <td>0.545532</td>\n",
       "      <td>0.023437</td>\n",
       "    </tr>\n",
       "    <tr>\n",
       "      <th>27</th>\n",
       "      <td>[0.0339710378454, 0.0339710378454, 0.034892144...</td>\n",
       "      <td>0.629924</td>\n",
       "      <td>0.608912</td>\n",
       "      <td>0.021012</td>\n",
       "    </tr>\n",
       "    <tr>\n",
       "      <th>28</th>\n",
       "      <td>[0.0230180155249, 0.0339710378454, 0.034892144...</td>\n",
       "      <td>0.618540</td>\n",
       "      <td>0.571432</td>\n",
       "      <td>0.047108</td>\n",
       "    </tr>\n",
       "    <tr>\n",
       "      <th>29</th>\n",
       "      <td>[0.0229742086165, 0.0229742086165, 0.023018015...</td>\n",
       "      <td>0.569497</td>\n",
       "      <td>0.546196</td>\n",
       "      <td>0.023300</td>\n",
       "    </tr>\n",
       "    <tr>\n",
       "      <th>...</th>\n",
       "      <td>...</td>\n",
       "      <td>...</td>\n",
       "      <td>...</td>\n",
       "      <td>...</td>\n",
       "    </tr>\n",
       "    <tr>\n",
       "      <th>970</th>\n",
       "      <td>[0.0229742086165, 0.0229742086165, 0.023018015...</td>\n",
       "      <td>0.606808</td>\n",
       "      <td>0.585070</td>\n",
       "      <td>0.021737</td>\n",
       "    </tr>\n",
       "    <tr>\n",
       "      <th>971</th>\n",
       "      <td>[0.0229742086165, 0.0229742086165, 0.023018015...</td>\n",
       "      <td>0.592313</td>\n",
       "      <td>0.569963</td>\n",
       "      <td>0.022350</td>\n",
       "    </tr>\n",
       "    <tr>\n",
       "      <th>972</th>\n",
       "      <td>[0.0229742086165, 0.0339710378454, 0.034892144...</td>\n",
       "      <td>0.597807</td>\n",
       "      <td>0.549835</td>\n",
       "      <td>0.047972</td>\n",
       "    </tr>\n",
       "    <tr>\n",
       "      <th>973</th>\n",
       "      <td>[0.0229742086165, 0.0230180155249, 0.034892144...</td>\n",
       "      <td>0.574401</td>\n",
       "      <td>0.551313</td>\n",
       "      <td>0.023088</td>\n",
       "    </tr>\n",
       "    <tr>\n",
       "      <th>974</th>\n",
       "      <td>[0.0229742086165, 0.0230180155249, 0.023018015...</td>\n",
       "      <td>0.509200</td>\n",
       "      <td>0.483387</td>\n",
       "      <td>0.025813</td>\n",
       "    </tr>\n",
       "    <tr>\n",
       "      <th>975</th>\n",
       "      <td>[0.0229742086165, 0.0230180155249, 0.033971037...</td>\n",
       "      <td>0.568496</td>\n",
       "      <td>0.545153</td>\n",
       "      <td>0.023342</td>\n",
       "    </tr>\n",
       "    <tr>\n",
       "      <th>976</th>\n",
       "      <td>[0.0229742086165, 0.0230180155249, 0.034892144...</td>\n",
       "      <td>0.575707</td>\n",
       "      <td>0.552666</td>\n",
       "      <td>0.023042</td>\n",
       "    </tr>\n",
       "    <tr>\n",
       "      <th>977</th>\n",
       "      <td>[0.0229742086165, 0.0229742086165, 0.022974208...</td>\n",
       "      <td>0.509878</td>\n",
       "      <td>0.509831</td>\n",
       "      <td>0.000048</td>\n",
       "    </tr>\n",
       "    <tr>\n",
       "      <th>978</th>\n",
       "      <td>[0.0229742086165, 0.0230180155249, 0.062073653...</td>\n",
       "      <td>0.557517</td>\n",
       "      <td>0.559462</td>\n",
       "      <td>-0.001945</td>\n",
       "    </tr>\n",
       "    <tr>\n",
       "      <th>979</th>\n",
       "      <td>[0.0229742086165, 0.0230180155249, 0.034892144...</td>\n",
       "      <td>0.578245</td>\n",
       "      <td>0.555308</td>\n",
       "      <td>0.022936</td>\n",
       "    </tr>\n",
       "    <tr>\n",
       "      <th>980</th>\n",
       "      <td>[0.0229742086165, 0.0230180155249, 0.023018015...</td>\n",
       "      <td>0.564344</td>\n",
       "      <td>0.566573</td>\n",
       "      <td>-0.002229</td>\n",
       "    </tr>\n",
       "    <tr>\n",
       "      <th>981</th>\n",
       "      <td>[0.0229742086165, 0.0230180155249, 0.023018015...</td>\n",
       "      <td>0.545193</td>\n",
       "      <td>0.495143</td>\n",
       "      <td>0.050050</td>\n",
       "    </tr>\n",
       "    <tr>\n",
       "      <th>982</th>\n",
       "      <td>[0.0229742086165, 0.0339710378454, 0.034892144...</td>\n",
       "      <td>0.545201</td>\n",
       "      <td>0.520782</td>\n",
       "      <td>0.024419</td>\n",
       "    </tr>\n",
       "    <tr>\n",
       "      <th>983</th>\n",
       "      <td>[0.0229742086165, 0.06207365328, 0.13080564985...</td>\n",
       "      <td>0.554074</td>\n",
       "      <td>0.555476</td>\n",
       "      <td>-0.001403</td>\n",
       "    </tr>\n",
       "    <tr>\n",
       "      <th>984</th>\n",
       "      <td>[0.0230180155249, 0.0339710378454, 0.033971037...</td>\n",
       "      <td>0.609864</td>\n",
       "      <td>0.588171</td>\n",
       "      <td>0.021693</td>\n",
       "    </tr>\n",
       "    <tr>\n",
       "      <th>985</th>\n",
       "      <td>[0.0229742086165, 0.0229742086165, 0.033971037...</td>\n",
       "      <td>0.535955</td>\n",
       "      <td>0.537054</td>\n",
       "      <td>-0.001099</td>\n",
       "    </tr>\n",
       "    <tr>\n",
       "      <th>986</th>\n",
       "      <td>[0.0229742086165, 0.0229742086165, 0.022974208...</td>\n",
       "      <td>0.595217</td>\n",
       "      <td>0.547252</td>\n",
       "      <td>0.047965</td>\n",
       "    </tr>\n",
       "    <tr>\n",
       "      <th>987</th>\n",
       "      <td>[0.0229742086165, 0.0230180155249, 0.062073653...</td>\n",
       "      <td>0.609426</td>\n",
       "      <td>0.587790</td>\n",
       "      <td>0.021637</td>\n",
       "    </tr>\n",
       "    <tr>\n",
       "      <th>988</th>\n",
       "      <td>[0.0348921446769, 0.08012181998, 0.12643090206...</td>\n",
       "      <td>0.513694</td>\n",
       "      <td>0.513127</td>\n",
       "      <td>0.000567</td>\n",
       "    </tr>\n",
       "    <tr>\n",
       "      <th>989</th>\n",
       "      <td>[0.0230180155249, 0.0348921446769, 0.034892144...</td>\n",
       "      <td>0.605745</td>\n",
       "      <td>0.558094</td>\n",
       "      <td>0.047651</td>\n",
       "    </tr>\n",
       "    <tr>\n",
       "      <th>990</th>\n",
       "      <td>[0.0229742086165, 0.0229742086165, 0.034892144...</td>\n",
       "      <td>0.508639</td>\n",
       "      <td>0.508580</td>\n",
       "      <td>0.000059</td>\n",
       "    </tr>\n",
       "    <tr>\n",
       "      <th>991</th>\n",
       "      <td>[0.0229742086165, 0.06207365328, 0.08012181998...</td>\n",
       "      <td>0.577039</td>\n",
       "      <td>0.579391</td>\n",
       "      <td>-0.002352</td>\n",
       "    </tr>\n",
       "    <tr>\n",
       "      <th>992</th>\n",
       "      <td>[0.0229742086165, 0.0229742086165, 0.023018015...</td>\n",
       "      <td>0.574120</td>\n",
       "      <td>0.551020</td>\n",
       "      <td>0.023099</td>\n",
       "    </tr>\n",
       "    <tr>\n",
       "      <th>993</th>\n",
       "      <td>[0.0230180155249, 0.0230180155249, 0.062073653...</td>\n",
       "      <td>0.546429</td>\n",
       "      <td>0.522167</td>\n",
       "      <td>0.024262</td>\n",
       "    </tr>\n",
       "    <tr>\n",
       "      <th>994</th>\n",
       "      <td>[0.0229742086165, 0.0229742086165, 0.023018015...</td>\n",
       "      <td>0.549789</td>\n",
       "      <td>0.525667</td>\n",
       "      <td>0.024121</td>\n",
       "    </tr>\n",
       "    <tr>\n",
       "      <th>995</th>\n",
       "      <td>[0.0229742086165, 0.0230180155249, 0.033971037...</td>\n",
       "      <td>0.643490</td>\n",
       "      <td>0.597536</td>\n",
       "      <td>0.045954</td>\n",
       "    </tr>\n",
       "    <tr>\n",
       "      <th>996</th>\n",
       "      <td>[0.0230180155249, 0.0339710378454, 0.033971037...</td>\n",
       "      <td>0.542543</td>\n",
       "      <td>0.544327</td>\n",
       "      <td>-0.001784</td>\n",
       "    </tr>\n",
       "    <tr>\n",
       "      <th>997</th>\n",
       "      <td>[0.0229742086165, 0.0339710378454, 0.033971037...</td>\n",
       "      <td>0.608784</td>\n",
       "      <td>0.587007</td>\n",
       "      <td>0.021778</td>\n",
       "    </tr>\n",
       "    <tr>\n",
       "      <th>998</th>\n",
       "      <td>[0.0230180155249, 0.0339710378454, 0.126430902...</td>\n",
       "      <td>0.589219</td>\n",
       "      <td>0.592370</td>\n",
       "      <td>-0.003151</td>\n",
       "    </tr>\n",
       "    <tr>\n",
       "      <th>999</th>\n",
       "      <td>[0.0229742086165, 0.0339710378454, 0.080121819...</td>\n",
       "      <td>0.600786</td>\n",
       "      <td>0.552939</td>\n",
       "      <td>0.047848</td>\n",
       "    </tr>\n",
       "  </tbody>\n",
       "</table>\n",
       "<p>1000 rows × 4 columns</p>\n",
       "</div>"
      ],
      "text/plain": [
       "                                                sample      mean  \\\n",
       "0    [0.0229742086165, 0.0230180155249, 0.033971037...  0.523150   \n",
       "1    [0.0230180155249, 0.0339710378454, 0.033971037...  0.583046   \n",
       "2    [0.0229742086165, 0.0229742086165, 0.033971037...  0.648201   \n",
       "3    [0.0229742086165, 0.0339710378454, 0.080121819...  0.589809   \n",
       "4    [0.0229742086165, 0.0230180155249, 0.033971037...  0.618378   \n",
       "5    [0.0229742086165, 0.0348921446769, 0.080121819...  0.571152   \n",
       "6    [0.0230180155249, 0.0230180155249, 0.062073653...  0.548123   \n",
       "7    [0.0229742086165, 0.0229742086165, 0.023018015...  0.579597   \n",
       "8    [0.0229742086165, 0.0229742086165, 0.022974208...  0.549279   \n",
       "9    [0.0229742086165, 0.0229742086165, 0.062073653...  0.625160   \n",
       "10   [0.0230180155249, 0.0230180155249, 0.033971037...  0.567785   \n",
       "11   [0.0229742086165, 0.0230180155249, 0.033971037...  0.517089   \n",
       "12   [0.0339710378454, 0.0348921446769, 0.034892144...  0.591843   \n",
       "13   [0.0229742086165, 0.0230180155249, 0.033971037...  0.615517   \n",
       "14   [0.0339710378454, 0.0348921446769, 0.062073653...  0.572665   \n",
       "15   [0.0230180155249, 0.0230180155249, 0.023018015...  0.554009   \n",
       "16   [0.0229742086165, 0.0230180155249, 0.033971037...  0.596983   \n",
       "17   [0.0229742086165, 0.0229742086165, 0.062073653...  0.640529   \n",
       "18   [0.0229742086165, 0.0230180155249, 0.033971037...  0.574518   \n",
       "19   [0.0229742086165, 0.0229742086165, 0.033971037...  0.550166   \n",
       "20   [0.0230180155249, 0.0339710378454, 0.034892144...  0.590000   \n",
       "21   [0.0230180155249, 0.0230180155249, 0.033971037...  0.546313   \n",
       "22   [0.0339710378454, 0.0339710378454, 0.033971037...  0.565904   \n",
       "23   [0.0229742086165, 0.0229742086165, 0.022974208...  0.537502   \n",
       "24   [0.0339710378454, 0.0339710378454, 0.033971037...  0.691819   \n",
       "25   [0.0230180155249, 0.0230180155249, 0.033971037...  0.561959   \n",
       "26   [0.0229742086165, 0.0339710378454, 0.034892144...  0.568969   \n",
       "27   [0.0339710378454, 0.0339710378454, 0.034892144...  0.629924   \n",
       "28   [0.0230180155249, 0.0339710378454, 0.034892144...  0.618540   \n",
       "29   [0.0229742086165, 0.0229742086165, 0.023018015...  0.569497   \n",
       "..                                                 ...       ...   \n",
       "970  [0.0229742086165, 0.0229742086165, 0.023018015...  0.606808   \n",
       "971  [0.0229742086165, 0.0229742086165, 0.023018015...  0.592313   \n",
       "972  [0.0229742086165, 0.0339710378454, 0.034892144...  0.597807   \n",
       "973  [0.0229742086165, 0.0230180155249, 0.034892144...  0.574401   \n",
       "974  [0.0229742086165, 0.0230180155249, 0.023018015...  0.509200   \n",
       "975  [0.0229742086165, 0.0230180155249, 0.033971037...  0.568496   \n",
       "976  [0.0229742086165, 0.0230180155249, 0.034892144...  0.575707   \n",
       "977  [0.0229742086165, 0.0229742086165, 0.022974208...  0.509878   \n",
       "978  [0.0229742086165, 0.0230180155249, 0.062073653...  0.557517   \n",
       "979  [0.0229742086165, 0.0230180155249, 0.034892144...  0.578245   \n",
       "980  [0.0229742086165, 0.0230180155249, 0.023018015...  0.564344   \n",
       "981  [0.0229742086165, 0.0230180155249, 0.023018015...  0.545193   \n",
       "982  [0.0229742086165, 0.0339710378454, 0.034892144...  0.545201   \n",
       "983  [0.0229742086165, 0.06207365328, 0.13080564985...  0.554074   \n",
       "984  [0.0230180155249, 0.0339710378454, 0.033971037...  0.609864   \n",
       "985  [0.0229742086165, 0.0229742086165, 0.033971037...  0.535955   \n",
       "986  [0.0229742086165, 0.0229742086165, 0.022974208...  0.595217   \n",
       "987  [0.0229742086165, 0.0230180155249, 0.062073653...  0.609426   \n",
       "988  [0.0348921446769, 0.08012181998, 0.12643090206...  0.513694   \n",
       "989  [0.0230180155249, 0.0348921446769, 0.034892144...  0.605745   \n",
       "990  [0.0229742086165, 0.0229742086165, 0.034892144...  0.508639   \n",
       "991  [0.0229742086165, 0.06207365328, 0.08012181998...  0.577039   \n",
       "992  [0.0229742086165, 0.0229742086165, 0.023018015...  0.574120   \n",
       "993  [0.0230180155249, 0.0230180155249, 0.062073653...  0.546429   \n",
       "994  [0.0229742086165, 0.0229742086165, 0.023018015...  0.549789   \n",
       "995  [0.0229742086165, 0.0230180155249, 0.033971037...  0.643490   \n",
       "996  [0.0230180155249, 0.0339710378454, 0.033971037...  0.542543   \n",
       "997  [0.0229742086165, 0.0339710378454, 0.033971037...  0.608784   \n",
       "998  [0.0230180155249, 0.0339710378454, 0.126430902...  0.589219   \n",
       "999  [0.0229742086165, 0.0339710378454, 0.080121819...  0.600786   \n",
       "\n",
       "     trimmed_mean       mtm  \n",
       "0        0.523704 -0.000554  \n",
       "1        0.585940 -0.002894  \n",
       "2        0.602443  0.045758  \n",
       "3        0.592993 -0.003184  \n",
       "4        0.571377  0.047001  \n",
       "5        0.573614 -0.002463  \n",
       "6        0.549676 -0.001553  \n",
       "7        0.530981  0.048616  \n",
       "8        0.550881 -0.001602  \n",
       "9        0.578443  0.046718  \n",
       "10       0.570166 -0.002380  \n",
       "11       0.517423 -0.000334  \n",
       "12       0.569276  0.022567  \n",
       "13       0.568397  0.047120  \n",
       "14       0.549266  0.023399  \n",
       "15       0.530063  0.023946  \n",
       "16       0.574869  0.022115  \n",
       "17       0.594452  0.046077  \n",
       "18       0.577163 -0.002645  \n",
       "19       0.551797 -0.001631  \n",
       "20       0.567439  0.022561  \n",
       "21       0.547791 -0.001478  \n",
       "22       0.542225  0.023679  \n",
       "23       0.538605 -0.001103  \n",
       "24       0.647650  0.044169  \n",
       "25       0.512607  0.049352  \n",
       "26       0.545532  0.023437  \n",
       "27       0.608912  0.021012  \n",
       "28       0.571432  0.047108  \n",
       "29       0.546196  0.023300  \n",
       "..            ...       ...  \n",
       "970      0.585070  0.021737  \n",
       "971      0.569963  0.022350  \n",
       "972      0.549835  0.047972  \n",
       "973      0.551313  0.023088  \n",
       "974      0.483387  0.025813  \n",
       "975      0.545153  0.023342  \n",
       "976      0.552666  0.023042  \n",
       "977      0.509831  0.000048  \n",
       "978      0.559462 -0.001945  \n",
       "979      0.555308  0.022936  \n",
       "980      0.566573 -0.002229  \n",
       "981      0.495143  0.050050  \n",
       "982      0.520782  0.024419  \n",
       "983      0.555476 -0.001403  \n",
       "984      0.588171  0.021693  \n",
       "985      0.537054 -0.001099  \n",
       "986      0.547252  0.047965  \n",
       "987      0.587790  0.021637  \n",
       "988      0.513127  0.000567  \n",
       "989      0.558094  0.047651  \n",
       "990      0.508580  0.000059  \n",
       "991      0.579391 -0.002352  \n",
       "992      0.551020  0.023099  \n",
       "993      0.522167  0.024262  \n",
       "994      0.525667  0.024121  \n",
       "995      0.597536  0.045954  \n",
       "996      0.544327 -0.001784  \n",
       "997      0.587007  0.021778  \n",
       "998      0.592370 -0.003151  \n",
       "999      0.552939  0.047848  \n",
       "\n",
       "[1000 rows x 4 columns]"
      ]
     },
     "execution_count": 4,
     "metadata": {},
     "output_type": "execute_result"
    }
   ],
   "source": [
    "b.samples"
   ]
  },
  {
   "cell_type": "code",
   "execution_count": 5,
   "metadata": {},
   "outputs": [
    {
     "data": {
      "text/plain": [
       "(array([ 64.02796934,   4.66310141,   0.        ,   0.        ,\n",
       "         20.80460628,  42.14726273,   0.        ,   0.        ,\n",
       "          2.69025081,  45.0168636 ]),\n",
       " array([-0.00525693,  0.00031876,  0.00589445,  0.01147013,  0.01704582,\n",
       "         0.02262151,  0.0281972 ,  0.03377289,  0.03934858,  0.04492426,\n",
       "         0.05049995]),\n",
       " <a list of 10 Patch objects>)"
      ]
     },
     "execution_count": 5,
     "metadata": {},
     "output_type": "execute_result"
    },
    {
     "data": {
      "image/png": "[encoded data removed]",
      "text/plain": [
       "<matplotlib.figure.Figure at 0x7fc91f781ef0>"
      ]
     },
     "metadata": {},
     "output_type": "display_data"
    }
   ],
   "source": [
    "plt.hist(a.mtm,normed=1,alpha=.3) \n",
    "plt.hist(b.mtm,normed=1,alpha=.3) "
   ]
  },
  {
   "cell_type": "code",
   "execution_count": 6,
   "metadata": {},
   "outputs": [
    {
     "data": {
      "text/plain": [
       "1.2499999999999996"
      ]
     },
     "execution_count": 6,
     "metadata": {},
     "output_type": "execute_result"
    }
   ],
   "source": [
    "bootnormuni = bootlier.find_hratio(a.mtm)\n",
    "bootnormuni.hratio"
   ]
  },
  {
   "cell_type": "code",
   "execution_count": 7,
   "metadata": {},
   "outputs": [
    {
     "name": "stdout",
     "output_type": "stream",
     "text": [
      "0.212851999541\n",
      "0.266064999426\n"
     ]
    }
   ],
   "source": [
    "print(bootnormuni.hcrit)\n",
    "print(bootnormuni.horig)"
   ]
  },
  {
   "cell_type": "code",
   "execution_count": 8,
   "metadata": {},
   "outputs": [
    {
     "data": {
      "text/plain": [
       "(array([   4.8411689 ,   16.94409115,   96.82337801,  209.38055495,\n",
       "         360.6670831 ,  297.73188739,  165.81003485,   48.41168901,\n",
       "           8.47204558,    1.21029223]),\n",
       " array([ -4.97854209e-03,  -4.15229536e-03,  -3.32604862e-03,\n",
       "         -2.49980188e-03,  -1.67355515e-03,  -8.47308413e-04,\n",
       "         -2.10616778e-05,   8.05185058e-04,   1.63143179e-03,\n",
       "          2.45767853e-03,   3.28392526e-03]),\n",
       " <a list of 10 Patch objects>)"
      ]
     },
     "execution_count": 8,
     "metadata": {},
     "output_type": "execute_result"
    },
    {
     "data": {
      "image/png": "[encoded data removed]",
      "text/plain": [
       "<matplotlib.figure.Figure at 0x7fc91c608358>"
      ]
     },
     "metadata": {},
     "output_type": "display_data"
    }
   ],
   "source": [
    "knorm = bootnormuni.hcrit_kde\n",
    "x = np.arange(-0.01, 0.01, 0.001)\n",
    "plt.plot(x, knorm(x))\n",
    "plt.plot(x, bootnormuni.horig_kde(x))\n",
    "plt.hist(a.mtm,normed=1,alpha=.3) "
   ]
  },
  {
   "cell_type": "code",
   "execution_count": 9,
   "metadata": {},
   "outputs": [
    {
     "data": {
      "text/plain": [
       "0.41666666666666652"
      ]
     },
     "execution_count": 9,
     "metadata": {},
     "output_type": "execute_result"
    }
   ],
   "source": [
    "bootodduni = bootlier.find_hratio(b.mtm)\n",
    "bootodduni.hratio"
   ]
  },
  {
   "cell_type": "code",
   "execution_count": 10,
   "metadata": {},
   "outputs": [
    {
     "data": {
      "text/plain": [
       "(array([ 64.02796934,   4.66310141,   0.        ,   0.        ,\n",
       "         20.80460628,  42.14726273,   0.        ,   0.        ,\n",
       "          2.69025081,  45.0168636 ]),\n",
       " array([-0.00525693,  0.00031876,  0.00589445,  0.01147013,  0.01704582,\n",
       "         0.02262151,  0.0281972 ,  0.03377289,  0.03934858,  0.04492426,\n",
       "         0.05049995]),\n",
       " <a list of 10 Patch objects>)"
      ]
     },
     "execution_count": 10,
     "metadata": {},
     "output_type": "execute_result"
    },
    {
     "data": {
      "image/png": "[encoded data removed]",
      "text/plain": [
       "<matplotlib.figure.Figure at 0x7fc91c56bb70>"
      ]
     },
     "metadata": {},
     "output_type": "display_data"
    }
   ],
   "source": [
    "kodd = bootodduni.hcrit_kde\n",
    "x = np.arange(-0.015, 0.06, 0.001)\n",
    "plt.plot(x, kodd(x))\n",
    "plt.plot(x, bootodduni.horig_kde(x))\n",
    "plt.hist(b.mtm,normed=1,alpha=.3) "
   ]
  },
  {
   "cell_type": "markdown",
   "metadata": {},
   "source": [
    "## Initialize normal and outlier bootliers for sine wave distribution"
   ]
  },
  {
   "cell_type": "code",
   "execution_count": 11,
   "metadata": {},
   "outputs": [],
   "source": [
    "s_normal = np.sin(np.arange(0,6*np.pi,0.1*np.pi))\n",
    "s_odd = np.sin(np.arange(0,6*np.pi,0.1*np.pi))\n",
    "s_odd[-1]=np.mean(s_odd)+10*np.std(s_odd)  # 10 sigma outlier at the end\n",
    "\n",
    "c = bootlier.boot(s_normal, 100, 1000, 2)\n",
    "d = bootlier.boot(s_odd, 100, 1000, 2)"
   ]
  },
  {
   "cell_type": "code",
   "execution_count": 12,
   "metadata": {},
   "outputs": [
    {
     "data": {
      "text/plain": [
       "[<matplotlib.lines.Line2D at 0x7fc91c60cf60>]"
      ]
     },
     "execution_count": 12,
     "metadata": {},
     "output_type": "execute_result"
    },
    {
     "data": {
      "image/png": "[encoded data removed]",
      "text/plain": [
       "<matplotlib.figure.Figure at 0x7fc91c51c780>"
      ]
     },
     "metadata": {},
     "output_type": "display_data"
    }
   ],
   "source": [
    "plt.plot(s_normal)\n",
    "plt.plot(s_odd)"
   ]
  },
  {
   "cell_type": "code",
   "execution_count": 13,
   "metadata": {
    "scrolled": true
   },
   "outputs": [
    {
     "data": {
      "text/plain": [
       "(array([ 13.24544398,   0.14882521,   0.        ,   0.        ,\n",
       "         12.79896834,  10.56659014,   0.        ,   0.        ,\n",
       "          6.17624635,  31.47653261]),\n",
       " array([-0.00646846,  0.00697012,  0.02040871,  0.03384729,  0.04728587,\n",
       "         0.06072446,  0.07416304,  0.08760162,  0.1010402 ,  0.11447879,\n",
       "         0.12791737]),\n",
       " <a list of 10 Patch objects>)"
      ]
     },
     "execution_count": 13,
     "metadata": {},
     "output_type": "execute_result"
    },
    {
     "data": {
      "image/png": "[encoded data removed]",
      "text/plain": [
       "<matplotlib.figure.Figure at 0x7fc91c58e160>"
      ]
     },
     "metadata": {},
     "output_type": "display_data"
    }
   ],
   "source": [
    "plt.hist(c.mtm,normed=1,alpha=.3) \n",
    "plt.hist(d.mtm,normed=1,alpha=.3) "
   ]
  },
  {
   "cell_type": "code",
   "execution_count": 14,
   "metadata": {
    "scrolled": true
   },
   "outputs": [
    {
     "data": {
      "text/plain": [
       "1.5384615384615381"
      ]
     },
     "execution_count": 14,
     "metadata": {},
     "output_type": "execute_result"
    }
   ],
   "source": [
    "bootnormsin = bootlier.find_hratio(c.mtm)\n",
    "bootnormsin.hratio"
   ]
  },
  {
   "cell_type": "code",
   "execution_count": 15,
   "metadata": {},
   "outputs": [
    {
     "data": {
      "text/plain": [
       "(array([   5.11107201,   25.55536006,   55.08599836,  106.19671848,\n",
       "         143.11001635,  119.82624385,   70.41921439,   30.09853518,\n",
       "          10.79004091,    1.70369067]),\n",
       " array([-0.00824371, -0.00648282, -0.00472194, -0.00296106, -0.00120018,\n",
       "         0.00056071,  0.00232159,  0.00408247,  0.00584336,  0.00760424,\n",
       "         0.00936512]),\n",
       " <a list of 10 Patch objects>)"
      ]
     },
     "execution_count": 15,
     "metadata": {},
     "output_type": "execute_result"
    },
    {
     "data": {
      "image/png": "[encoded data removed]",
      "text/plain": [
       "<matplotlib.figure.Figure at 0x7fc91c3d3630>"
      ]
     },
     "metadata": {},
     "output_type": "display_data"
    }
   ],
   "source": [
    "knorm = bootnormsin.hcrit_kde\n",
    "x = np.arange(-0.015, 0.035, 0.001)\n",
    "plt.plot(x, knorm(x))\n",
    "plt.hist(c.mtm,normed=1,alpha=.3) "
   ]
  },
  {
   "cell_type": "code",
   "execution_count": 16,
   "metadata": {
    "scrolled": true
   },
   "outputs": [
    {
     "data": {
      "text/plain": [
       "0.49999999999999978"
      ]
     },
     "execution_count": 16,
     "metadata": {},
     "output_type": "execute_result"
    }
   ],
   "source": [
    "bootoddsin = bootlier.find_hratio(d.mtm)\n",
    "bootoddsin.hratio"
   ]
  },
  {
   "cell_type": "code",
   "execution_count": 17,
   "metadata": {},
   "outputs": [
    {
     "data": {
      "text/plain": [
       "(array([ 13.24544398,   0.14882521,   0.        ,   0.        ,\n",
       "         12.79896834,  10.56659014,   0.        ,   0.        ,\n",
       "          6.17624635,  31.47653261]),\n",
       " array([-0.00646846,  0.00697012,  0.02040871,  0.03384729,  0.04728587,\n",
       "         0.06072446,  0.07416304,  0.08760162,  0.1010402 ,  0.11447879,\n",
       "         0.12791737]),\n",
       " <a list of 10 Patch objects>)"
      ]
     },
     "execution_count": 17,
     "metadata": {},
     "output_type": "execute_result"
    },
    {
     "data": {
      "image/png": "[encoded data removed]",
      "text/plain": [
       "<matplotlib.figure.Figure at 0x7fc91c221d30>"
      ]
     },
     "metadata": {},
     "output_type": "display_data"
    }
   ],
   "source": [
    "kodd = bootoddsin.hcrit_kde\n",
    "x = np.arange(-0.015, 0.14, 0.001)\n",
    "plt.plot(x, kodd(x))\n",
    "plt.plot(x, bootoddsin.horig_kde(x))\n",
    "plt.hist(d.mtm,normed=1,alpha=.3) "
   ]
  },
  {
   "cell_type": "markdown",
   "metadata": {},
   "source": [
    "## 3 sigma sine wave"
   ]
  },
  {
   "cell_type": "code",
   "execution_count": 18,
   "metadata": {},
   "outputs": [],
   "source": [
    "s_normal = np.sin(np.arange(0,6*np.pi,0.1*np.pi))\n",
    "s_odd = np.sin(np.arange(0,6*np.pi,0.1*np.pi))\n",
    "s_odd[-1]=np.mean(s_odd)+3*np.std(s_odd)  # 3 sigma outlier at the end\n",
    "\n",
    "e = bootlier.boot(s_normal, 100, 1000, 2)\n",
    "f = bootlier.boot(s_odd, 100, 1000, 2)"
   ]
  },
  {
   "cell_type": "code",
   "execution_count": 19,
   "metadata": {},
   "outputs": [
    {
     "data": {
      "text/plain": [
       "[<matplotlib.lines.Line2D at 0x7fc91c21abe0>]"
      ]
     },
     "execution_count": 19,
     "metadata": {},
     "output_type": "execute_result"
    },
    {
     "data": {
      "image/png": "[encoded data removed]",
      "text/plain": [
       "<matplotlib.figure.Figure at 0x7fc91c21ab70>"
      ]
     },
     "metadata": {},
     "output_type": "display_data"
    }
   ],
   "source": [
    "plt.plot(s_normal)\n",
    "plt.plot(s_odd)"
   ]
  },
  {
   "cell_type": "code",
   "execution_count": 20,
   "metadata": {},
   "outputs": [
    {
     "data": {
      "text/plain": [
       "(array([  2.02148112,  13.1396273 ,  23.49971806,  18.19333011,\n",
       "         29.05879115,  36.63934537,  32.09101284,  55.08536062,\n",
       "         36.13397509,   6.82249879]),\n",
       " array([-0.00983813, -0.00588064, -0.00192314,  0.00203435,  0.00599185,\n",
       "         0.00994934,  0.01390683,  0.01786433,  0.02182182,  0.02577932,\n",
       "         0.02973681]),\n",
       " <a list of 10 Patch objects>)"
      ]
     },
     "execution_count": 20,
     "metadata": {},
     "output_type": "execute_result"
    },
    {
     "data": {
      "image/png": "[encoded data removed]",
      "text/plain": [
       "<matplotlib.figure.Figure at 0x7fc91c0190f0>"
      ]
     },
     "metadata": {},
     "output_type": "display_data"
    }
   ],
   "source": [
    "plt.hist(e.mtm,normed=1,alpha=.3) \n",
    "plt.hist(f.mtm,normed=1,alpha=.3) "
   ]
  },
  {
   "cell_type": "code",
   "execution_count": 21,
   "metadata": {},
   "outputs": [
    {
     "data": {
      "text/plain": [
       "1.6666666666666665"
      ]
     },
     "execution_count": 21,
     "metadata": {},
     "output_type": "execute_result"
    }
   ],
   "source": [
    "bootnormsin = bootlier.find_hratio(e.mtm)\n",
    "bootnormsin.hratio"
   ]
  },
  {
   "cell_type": "code",
   "execution_count": 22,
   "metadata": {},
   "outputs": [
    {
     "data": {
      "text/plain": [
       "(array([   2.7688492 ,    7.19900793,   23.2583333 ,   63.68353165,\n",
       "         117.95297601,  148.41031723,  104.10873   ,   55.37698404,\n",
       "          23.81210314,    7.19900793]),\n",
       " array([-0.00961503, -0.00780922, -0.00600342, -0.00419761, -0.00239181,\n",
       "        -0.000586  ,  0.0012198 ,  0.0030256 ,  0.00483141,  0.00663721,\n",
       "         0.00844302]),\n",
       " <a list of 10 Patch objects>)"
      ]
     },
     "execution_count": 22,
     "metadata": {},
     "output_type": "execute_result"
    },
    {
     "data": {
      "image/png": "[encoded data removed]",
      "text/plain": [
       "<matplotlib.figure.Figure at 0x7fc91c2e9c88>"
      ]
     },
     "metadata": {},
     "output_type": "display_data"
    }
   ],
   "source": [
    "knorm = bootnormsin.hcrit_kde\n",
    "x = np.arange(-0.015, 0.035, 0.001)\n",
    "plt.plot(x, knorm(x))\n",
    "plt.hist(e.mtm,normed=1,alpha=.3) "
   ]
  },
  {
   "cell_type": "code",
   "execution_count": 23,
   "metadata": {},
   "outputs": [
    {
     "data": {
      "text/plain": [
       "0.83333333333333304"
      ]
     },
     "execution_count": 23,
     "metadata": {},
     "output_type": "execute_result"
    }
   ],
   "source": [
    "bootoddsin = bootlier.find_hratio(f.mtm)\n",
    "bootoddsin.hratio"
   ]
  },
  {
   "cell_type": "code",
   "execution_count": 24,
   "metadata": {},
   "outputs": [
    {
     "data": {
      "text/plain": [
       "(array([  2.02148112,  13.1396273 ,  23.49971806,  18.19333011,\n",
       "         29.05879115,  36.63934537,  32.09101284,  55.08536062,\n",
       "         36.13397509,   6.82249879]),\n",
       " array([-0.00983813, -0.00588064, -0.00192314,  0.00203435,  0.00599185,\n",
       "         0.00994934,  0.01390683,  0.01786433,  0.02182182,  0.02577932,\n",
       "         0.02973681]),\n",
       " <a list of 10 Patch objects>)"
      ]
     },
     "execution_count": 24,
     "metadata": {},
     "output_type": "execute_result"
    },
    {
     "data": {
      "image/png": "[encoded data removed]",
      "text/plain": [
       "<matplotlib.figure.Figure at 0x7fc91bef3ac8>"
      ]
     },
     "metadata": {},
     "output_type": "display_data"
    }
   ],
   "source": [
    "kodd = bootoddsin.hcrit_kde\n",
    "x = np.arange(-0.015, 0.035, 0.001)\n",
    "plt.plot(x, kodd(x))\n",
    "plt.plot(x, bootoddsin.horig_kde(x))\n",
    "plt.hist(f.mtm,normed=1,alpha=.3) "
   ]
  },
  {
   "cell_type": "markdown",
   "metadata": {},
   "source": [
    "## 5 sigma sine wave plus noise"
   ]
  },
  {
   "cell_type": "code",
   "execution_count": 25,
   "metadata": {},
   "outputs": [],
   "source": [
    "s_signal = np.sin(np.arange(0,10*np.pi,0.1*np.pi))\n",
    "s_noise = np.random.normal(0,0.5,len(s_signal))\n",
    "s_normal = s_signal + s_noise\n",
    "\n",
    "s_signal = np.sin(np.arange(0,10*np.pi,0.1*np.pi))\n",
    "s_noise = np.random.normal(0,0.5,len(s_signal))\n",
    "s_odd = s_signal + s_noise\n",
    "s_odd[-1]=np.mean(s_odd)+5*np.std(s_odd)  # 5 sigma outlier at the end\n",
    "\n",
    "g = bootlier.boot(s_normal, 100, 1000, 2)\n",
    "h = bootlier.boot(s_odd, 100, 1000, 2)"
   ]
  },
  {
   "cell_type": "code",
   "execution_count": 26,
   "metadata": {},
   "outputs": [
    {
     "data": {
      "text/plain": [
       "[<matplotlib.lines.Line2D at 0x7fc91bf9ca20>]"
      ]
     },
     "execution_count": 26,
     "metadata": {},
     "output_type": "execute_result"
    },
    {
     "data": {
      "image/png": "[encoded data removed]",
      "text/plain": [
       "<matplotlib.figure.Figure at 0x7fc91beedf28>"
      ]
     },
     "metadata": {},
     "output_type": "display_data"
    }
   ],
   "source": [
    "plt.plot(s_normal)\n",
    "plt.plot(s_odd)"
   ]
  },
  {
   "cell_type": "code",
   "execution_count": 27,
   "metadata": {},
   "outputs": [
    {
     "data": {
      "text/plain": [
       "(array([  8.11411611,  21.89523395,  17.77377815,   6.95495667,\n",
       "         17.77377815,  18.41775562,   5.53820623,  12.62195839,\n",
       "         15.97064123,   3.73506932]),\n",
       " array([-0.01590643, -0.00814218, -0.00037794,  0.00738631,  0.01515056,\n",
       "         0.0229148 ,  0.03067905,  0.0384433 ,  0.04620754,  0.05397179,\n",
       "         0.06173604]),\n",
       " <a list of 10 Patch objects>)"
      ]
     },
     "execution_count": 27,
     "metadata": {},
     "output_type": "execute_result"
    },
    {
     "data": {
      "image/png": "[encoded data removed]",
      "text/plain": [
       "<matplotlib.figure.Figure at 0x7fc91bcd4748>"
      ]
     },
     "metadata": {},
     "output_type": "display_data"
    }
   ],
   "source": [
    "plt.hist(g.mtm,normed=1,alpha=.3) \n",
    "plt.hist(h.mtm,normed=1,alpha=.3) "
   ]
  },
  {
   "cell_type": "code",
   "execution_count": 28,
   "metadata": {},
   "outputs": [
    {
     "data": {
      "text/plain": [
       "1.6666666666666665"
      ]
     },
     "execution_count": 28,
     "metadata": {},
     "output_type": "execute_result"
    }
   ],
   "source": [
    "bootnormsin = bootlier.find_hratio(g.mtm)\n",
    "bootnormsin.hratio"
   ]
  },
  {
   "cell_type": "code",
   "execution_count": 29,
   "metadata": {},
   "outputs": [
    {
     "data": {
      "text/plain": [
       "(array([  0.93819373,   4.37823743,  11.57105606,  27.20761831,\n",
       "         40.3423306 ,  70.05179886,  72.55364882,  58.16801156,\n",
       "         20.95299341,   6.56735614]),\n",
       " array([-0.01048715, -0.00728952, -0.00409188, -0.00089425,  0.00230339,\n",
       "         0.00550102,  0.00869865,  0.01189629,  0.01509392,  0.01829155,\n",
       "         0.02148919]),\n",
       " <a list of 10 Patch objects>)"
      ]
     },
     "execution_count": 29,
     "metadata": {},
     "output_type": "execute_result"
    },
    {
     "data": {
      "image/png": "[encoded data removed]",
      "text/plain": [
       "<matplotlib.figure.Figure at 0x7fc91bff39b0>"
      ]
     },
     "metadata": {},
     "output_type": "display_data"
    }
   ],
   "source": [
    "knorm = bootnormsin.hcrit_kde\n",
    "x = np.arange(-0.025, 0.035, 0.001)\n",
    "plt.plot(x, knorm(x))\n",
    "plt.hist(g.mtm,normed=1,alpha=.3) "
   ]
  },
  {
   "cell_type": "code",
   "execution_count": 30,
   "metadata": {},
   "outputs": [
    {
     "data": {
      "text/plain": [
       "0.51282051282051266"
      ]
     },
     "execution_count": 30,
     "metadata": {},
     "output_type": "execute_result"
    }
   ],
   "source": [
    "bootoddsin = bootlier.find_hratio(h.mtm)\n",
    "bootoddsin.hratio"
   ]
  },
  {
   "cell_type": "code",
   "execution_count": 31,
   "metadata": {},
   "outputs": [
    {
     "data": {
      "text/plain": [
       "(array([  8.11411611,  21.89523395,  17.77377815,   6.95495667,\n",
       "         17.77377815,  18.41775562,   5.53820623,  12.62195839,\n",
       "         15.97064123,   3.73506932]),\n",
       " array([-0.01590643, -0.00814218, -0.00037794,  0.00738631,  0.01515056,\n",
       "         0.0229148 ,  0.03067905,  0.0384433 ,  0.04620754,  0.05397179,\n",
       "         0.06173604]),\n",
       " <a list of 10 Patch objects>)"
      ]
     },
     "execution_count": 31,
     "metadata": {},
     "output_type": "execute_result"
    },
    {
     "data": {
      "image/png": "[encoded data removed]",
      "text/plain": [
       "<matplotlib.figure.Figure at 0x7fc91bfa22e8>"
      ]
     },
     "metadata": {},
     "output_type": "display_data"
    }
   ],
   "source": [
    "kodd = bootoddsin.hcrit_kde\n",
    "x = np.arange(-0.015, 0.06, 0.001)\n",
    "plt.plot(x, kodd(x))\n",
    "plt.plot(x, bootoddsin.horig_kde(x))\n",
    "plt.hist(h.mtm,normed=1,alpha=.3) "
   ]
  },
  {
   "cell_type": "code",
   "execution_count": null,
   "metadata": {},
   "outputs": [],
   "source": []
  }
 ],
 "metadata": {
  "kernelspec": {
   "display_name": "Python 3",
   "language": "python",
   "name": "python3"
  },
  "language_info": {
   "codemirror_mode": {
    "name": "ipython",
    "version": 3
   },
   "file_extension": ".py",
   "mimetype": "text/x-python",
   "name": "python",
   "nbconvert_exporter": "python",
   "pygments_lexer": "ipython3",
   "version": "3.6.3"
  }
 },
 "nbformat": 4,
 "nbformat_minor": 2
}
