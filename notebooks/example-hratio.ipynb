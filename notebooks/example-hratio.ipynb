{
 "cells": [
  {
   "cell_type": "code",
   "execution_count": 1,
   "metadata": {},
   "outputs": [],
   "source": [
    "from kaiba import bootlier\n",
    "import numpy as np\n",
    "import matplotlib.pyplot as plt\n",
    "%matplotlib inline"
   ]
  },
  {
   "cell_type": "markdown",
   "metadata": {},
   "source": [
    "## Initialize normal and outlier bootliers for uniform noisy distribution"
   ]
  },
  {
   "cell_type": "code",
   "execution_count": 2,
   "metadata": {},
   "outputs": [],
   "source": [
    "bootnormuni = bootlier.Bootlier()\n",
    "bootodduni = bootlier.Bootlier()\n",
    "\n",
    "u_normal = np.random.uniform(low=0,high=1,size=100)\n",
    "u_odd = np.random.uniform(low=0,high=1,size=100)\n",
    "u_odd[int(len(u_odd)*0.5)]=np.mean(u_odd)+10*np.std(u_odd)  # 10 sigma outlier in the middle\n",
    "\n",
    "a = bootnormuni.boot(u_normal, 100, 1000, 2)\n",
    "b = bootodduni.boot(u_odd, 100, 1000, 2)"
   ]
  },
  {
   "cell_type": "code",
   "execution_count": 3,
   "metadata": {},
   "outputs": [
    {
     "data": {
      "text/plain": [
       "[<matplotlib.lines.Line2D at 0x7fcb6c0a0f60>]"
      ]
     },
     "execution_count": 3,
     "metadata": {},
     "output_type": "execute_result"
    },
    {
     "data": {
      "image/png": "[encoded data removed]",
      "text/plain": [
       "<matplotlib.figure.Figure at 0x7fcb6c0a0eb8>"
      ]
     },
     "metadata": {},
     "output_type": "display_data"
    }
   ],
   "source": [
    "plt.plot(u_normal)\n",
    "plt.plot(u_odd)"
   ]
  },
  {
   "cell_type": "code",
   "execution_count": 4,
   "metadata": {},
   "outputs": [
    {
     "data": {
      "text/html": [
       "<div>\n",
       "<table border=\"1\" class=\"dataframe\">\n",
       "  <thead>\n",
       "    <tr style=\"text-align: right;\">\n",
       "      <th></th>\n",
       "      <th>sample</th>\n",
       "      <th>mean</th>\n",
       "      <th>trimmed_mean</th>\n",
       "      <th>mtm</th>\n",
       "    </tr>\n",
       "  </thead>\n",
       "  <tbody>\n",
       "    <tr>\n",
       "      <th>0</th>\n",
       "      <td>[0.00385292182988, 0.00385292182988, 0.0064596...</td>\n",
       "      <td>0.503810</td>\n",
       "      <td>0.477967</td>\n",
       "      <td>0.025843</td>\n",
       "    </tr>\n",
       "    <tr>\n",
       "      <th>1</th>\n",
       "      <td>[0.0107934110885, 0.0168048554195, 0.030929411...</td>\n",
       "      <td>0.493324</td>\n",
       "      <td>0.493216</td>\n",
       "      <td>0.000108</td>\n",
       "    </tr>\n",
       "    <tr>\n",
       "      <th>2</th>\n",
       "      <td>[0.0107934110885, 0.0107934110885, 0.010793411...</td>\n",
       "      <td>0.459779</td>\n",
       "      <td>0.458935</td>\n",
       "      <td>0.000844</td>\n",
       "    </tr>\n",
       "    <tr>\n",
       "      <th>3</th>\n",
       "      <td>[0.00385292182988, 0.00385292182988, 0.0038529...</td>\n",
       "      <td>0.591447</td>\n",
       "      <td>0.543076</td>\n",
       "      <td>0.048370</td>\n",
       "    </tr>\n",
       "    <tr>\n",
       "      <th>4</th>\n",
       "      <td>[0.0107934110885, 0.0168048554195, 0.023184465...</td>\n",
       "      <td>0.499209</td>\n",
       "      <td>0.472967</td>\n",
       "      <td>0.026242</td>\n",
       "    </tr>\n",
       "    <tr>\n",
       "      <th>5</th>\n",
       "      <td>[0.00385292182988, 0.00645963408075, 0.0107934...</td>\n",
       "      <td>0.473882</td>\n",
       "      <td>0.446843</td>\n",
       "      <td>0.027039</td>\n",
       "    </tr>\n",
       "    <tr>\n",
       "      <th>6</th>\n",
       "      <td>[0.00385292182988, 0.0107934110885, 0.01079341...</td>\n",
       "      <td>0.559393</td>\n",
       "      <td>0.535794</td>\n",
       "      <td>0.023599</td>\n",
       "    </tr>\n",
       "    <tr>\n",
       "      <th>7</th>\n",
       "      <td>[0.00645963408075, 0.0107934110885, 0.01680485...</td>\n",
       "      <td>0.556548</td>\n",
       "      <td>0.506624</td>\n",
       "      <td>0.049924</td>\n",
       "    </tr>\n",
       "    <tr>\n",
       "      <th>8</th>\n",
       "      <td>[0.0231844659028, 0.0371379126236, 0.056325395...</td>\n",
       "      <td>0.467619</td>\n",
       "      <td>0.466022</td>\n",
       "      <td>0.001598</td>\n",
       "    </tr>\n",
       "    <tr>\n",
       "      <th>9</th>\n",
       "      <td>[0.0107934110885, 0.0231844659028, 0.023184465...</td>\n",
       "      <td>0.511841</td>\n",
       "      <td>0.486059</td>\n",
       "      <td>0.025782</td>\n",
       "    </tr>\n",
       "    <tr>\n",
       "      <th>10</th>\n",
       "      <td>[0.00385292182988, 0.0168048554195, 0.01680485...</td>\n",
       "      <td>0.484625</td>\n",
       "      <td>0.484105</td>\n",
       "      <td>0.000520</td>\n",
       "    </tr>\n",
       "    <tr>\n",
       "      <th>11</th>\n",
       "      <td>[0.00385292182988, 0.00645963408075, 0.0168048...</td>\n",
       "      <td>0.514379</td>\n",
       "      <td>0.462771</td>\n",
       "      <td>0.051609</td>\n",
       "    </tr>\n",
       "    <tr>\n",
       "      <th>12</th>\n",
       "      <td>[0.00385292182988, 0.00385292182988, 0.0064596...</td>\n",
       "      <td>0.477820</td>\n",
       "      <td>0.477073</td>\n",
       "      <td>0.000747</td>\n",
       "    </tr>\n",
       "    <tr>\n",
       "      <th>13</th>\n",
       "      <td>[0.00385292182988, 0.0107934110885, 0.02318446...</td>\n",
       "      <td>0.472222</td>\n",
       "      <td>0.445069</td>\n",
       "      <td>0.027153</td>\n",
       "    </tr>\n",
       "    <tr>\n",
       "      <th>14</th>\n",
       "      <td>[0.00645963408075, 0.00645963408075, 0.0107934...</td>\n",
       "      <td>0.549407</td>\n",
       "      <td>0.499231</td>\n",
       "      <td>0.050176</td>\n",
       "    </tr>\n",
       "    <tr>\n",
       "      <th>15</th>\n",
       "      <td>[0.00385292182988, 0.0107934110885, 0.01079341...</td>\n",
       "      <td>0.474366</td>\n",
       "      <td>0.447302</td>\n",
       "      <td>0.027064</td>\n",
       "    </tr>\n",
       "    <tr>\n",
       "      <th>16</th>\n",
       "      <td>[0.00385292182988, 0.00385292182988, 0.0064596...</td>\n",
       "      <td>0.472921</td>\n",
       "      <td>0.472048</td>\n",
       "      <td>0.000873</td>\n",
       "    </tr>\n",
       "    <tr>\n",
       "      <th>17</th>\n",
       "      <td>[0.00385292182988, 0.00385292182988, 0.0038529...</td>\n",
       "      <td>0.441541</td>\n",
       "      <td>0.439819</td>\n",
       "      <td>0.001722</td>\n",
       "    </tr>\n",
       "    <tr>\n",
       "      <th>18</th>\n",
       "      <td>[0.00385292182988, 0.0107934110885, 0.02318446...</td>\n",
       "      <td>0.548911</td>\n",
       "      <td>0.498696</td>\n",
       "      <td>0.050215</td>\n",
       "    </tr>\n",
       "    <tr>\n",
       "      <th>19</th>\n",
       "      <td>[0.00385292182988, 0.00385292182988, 0.0038529...</td>\n",
       "      <td>0.523002</td>\n",
       "      <td>0.471780</td>\n",
       "      <td>0.051222</td>\n",
       "    </tr>\n",
       "    <tr>\n",
       "      <th>20</th>\n",
       "      <td>[0.00645963408075, 0.0107934110885, 0.01079341...</td>\n",
       "      <td>0.536402</td>\n",
       "      <td>0.511818</td>\n",
       "      <td>0.024584</td>\n",
       "    </tr>\n",
       "    <tr>\n",
       "      <th>21</th>\n",
       "      <td>[0.00385292182988, 0.0168048554195, 0.03092941...</td>\n",
       "      <td>0.534657</td>\n",
       "      <td>0.483785</td>\n",
       "      <td>0.050872</td>\n",
       "    </tr>\n",
       "    <tr>\n",
       "      <th>22</th>\n",
       "      <td>[0.00385292182988, 0.00645963408075, 0.0107934...</td>\n",
       "      <td>0.486411</td>\n",
       "      <td>0.487333</td>\n",
       "      <td>-0.000922</td>\n",
       "    </tr>\n",
       "    <tr>\n",
       "      <th>23</th>\n",
       "      <td>[0.00385292182988, 0.00645963408075, 0.0064596...</td>\n",
       "      <td>0.516149</td>\n",
       "      <td>0.464614</td>\n",
       "      <td>0.051535</td>\n",
       "    </tr>\n",
       "    <tr>\n",
       "      <th>24</th>\n",
       "      <td>[0.0107934110885, 0.0107934110885, 0.010793411...</td>\n",
       "      <td>0.522595</td>\n",
       "      <td>0.471211</td>\n",
       "      <td>0.051384</td>\n",
       "    </tr>\n",
       "    <tr>\n",
       "      <th>25</th>\n",
       "      <td>[0.00385292182988, 0.00385292182988, 0.0107934...</td>\n",
       "      <td>0.469403</td>\n",
       "      <td>0.468306</td>\n",
       "      <td>0.001097</td>\n",
       "    </tr>\n",
       "    <tr>\n",
       "      <th>26</th>\n",
       "      <td>[0.00385292182988, 0.00645963408075, 0.0107934...</td>\n",
       "      <td>0.497090</td>\n",
       "      <td>0.497119</td>\n",
       "      <td>-0.000029</td>\n",
       "    </tr>\n",
       "    <tr>\n",
       "      <th>27</th>\n",
       "      <td>[0.00645963408075, 0.00645963408075, 0.0107934...</td>\n",
       "      <td>0.509404</td>\n",
       "      <td>0.509997</td>\n",
       "      <td>-0.000593</td>\n",
       "    </tr>\n",
       "    <tr>\n",
       "      <th>28</th>\n",
       "      <td>[0.00385292182988, 0.00385292182988, 0.0038529...</td>\n",
       "      <td>0.481105</td>\n",
       "      <td>0.480651</td>\n",
       "      <td>0.000454</td>\n",
       "    </tr>\n",
       "    <tr>\n",
       "      <th>29</th>\n",
       "      <td>[0.00385292182988, 0.00645963408075, 0.0064596...</td>\n",
       "      <td>0.476415</td>\n",
       "      <td>0.475704</td>\n",
       "      <td>0.000710</td>\n",
       "    </tr>\n",
       "    <tr>\n",
       "      <th>...</th>\n",
       "      <td>...</td>\n",
       "      <td>...</td>\n",
       "      <td>...</td>\n",
       "      <td>...</td>\n",
       "    </tr>\n",
       "    <tr>\n",
       "      <th>970</th>\n",
       "      <td>[0.00385292182988, 0.00385292182988, 0.0064596...</td>\n",
       "      <td>0.532270</td>\n",
       "      <td>0.481434</td>\n",
       "      <td>0.050836</td>\n",
       "    </tr>\n",
       "    <tr>\n",
       "      <th>971</th>\n",
       "      <td>[0.00385292182988, 0.00385292182988, 0.0064596...</td>\n",
       "      <td>0.539154</td>\n",
       "      <td>0.514784</td>\n",
       "      <td>0.024370</td>\n",
       "    </tr>\n",
       "    <tr>\n",
       "      <th>972</th>\n",
       "      <td>[0.00385292182988, 0.00645963408075, 0.0309294...</td>\n",
       "      <td>0.538599</td>\n",
       "      <td>0.540602</td>\n",
       "      <td>-0.002003</td>\n",
       "    </tr>\n",
       "    <tr>\n",
       "      <th>973</th>\n",
       "      <td>[0.00385292182988, 0.00385292182988, 0.0064596...</td>\n",
       "      <td>0.531566</td>\n",
       "      <td>0.480701</td>\n",
       "      <td>0.050865</td>\n",
       "    </tr>\n",
       "    <tr>\n",
       "      <th>974</th>\n",
       "      <td>[0.00645963408075, 0.0168048554195, 0.03092941...</td>\n",
       "      <td>0.515345</td>\n",
       "      <td>0.516078</td>\n",
       "      <td>-0.000733</td>\n",
       "    </tr>\n",
       "    <tr>\n",
       "      <th>975</th>\n",
       "      <td>[0.00385292182988, 0.00645963408075, 0.0107934...</td>\n",
       "      <td>0.505681</td>\n",
       "      <td>0.453710</td>\n",
       "      <td>0.051971</td>\n",
       "    </tr>\n",
       "    <tr>\n",
       "      <th>976</th>\n",
       "      <td>[0.00385292182988, 0.00385292182988, 0.0064596...</td>\n",
       "      <td>0.555418</td>\n",
       "      <td>0.505546</td>\n",
       "      <td>0.049872</td>\n",
       "    </tr>\n",
       "    <tr>\n",
       "      <th>977</th>\n",
       "      <td>[0.00385292182988, 0.0107934110885, 0.01079341...</td>\n",
       "      <td>0.451095</td>\n",
       "      <td>0.450359</td>\n",
       "      <td>0.000736</td>\n",
       "    </tr>\n",
       "    <tr>\n",
       "      <th>978</th>\n",
       "      <td>[0.00385292182988, 0.0168048554195, 0.01680485...</td>\n",
       "      <td>0.519868</td>\n",
       "      <td>0.468380</td>\n",
       "      <td>0.051488</td>\n",
       "    </tr>\n",
       "    <tr>\n",
       "      <th>979</th>\n",
       "      <td>[0.00385292182988, 0.0107934110885, 0.01079341...</td>\n",
       "      <td>0.531477</td>\n",
       "      <td>0.480535</td>\n",
       "      <td>0.050941</td>\n",
       "    </tr>\n",
       "    <tr>\n",
       "      <th>980</th>\n",
       "      <td>[0.00385292182988, 0.0309294118506, 0.03092941...</td>\n",
       "      <td>0.482663</td>\n",
       "      <td>0.481836</td>\n",
       "      <td>0.000827</td>\n",
       "    </tr>\n",
       "    <tr>\n",
       "      <th>981</th>\n",
       "      <td>[0.00385292182988, 0.00645963408075, 0.0064596...</td>\n",
       "      <td>0.500257</td>\n",
       "      <td>0.448059</td>\n",
       "      <td>0.052197</td>\n",
       "    </tr>\n",
       "    <tr>\n",
       "      <th>982</th>\n",
       "      <td>[0.00645963408075, 0.00645963408075, 0.0107934...</td>\n",
       "      <td>0.460182</td>\n",
       "      <td>0.458802</td>\n",
       "      <td>0.001380</td>\n",
       "    </tr>\n",
       "    <tr>\n",
       "      <th>983</th>\n",
       "      <td>[0.00385292182988, 0.0231844659028, 0.02318446...</td>\n",
       "      <td>0.457605</td>\n",
       "      <td>0.455937</td>\n",
       "      <td>0.001668</td>\n",
       "    </tr>\n",
       "    <tr>\n",
       "      <th>984</th>\n",
       "      <td>[0.00385292182988, 0.00645963408075, 0.0064596...</td>\n",
       "      <td>0.470171</td>\n",
       "      <td>0.469693</td>\n",
       "      <td>0.000478</td>\n",
       "    </tr>\n",
       "    <tr>\n",
       "      <th>985</th>\n",
       "      <td>[0.00385292182988, 0.00385292182988, 0.0038529...</td>\n",
       "      <td>0.519554</td>\n",
       "      <td>0.494445</td>\n",
       "      <td>0.025109</td>\n",
       "    </tr>\n",
       "    <tr>\n",
       "      <th>986</th>\n",
       "      <td>[0.00385292182988, 0.00645963408075, 0.0533998...</td>\n",
       "      <td>0.495778</td>\n",
       "      <td>0.495908</td>\n",
       "      <td>-0.000130</td>\n",
       "    </tr>\n",
       "    <tr>\n",
       "      <th>987</th>\n",
       "      <td>[0.00385292182988, 0.00385292182988, 0.0064596...</td>\n",
       "      <td>0.445550</td>\n",
       "      <td>0.443458</td>\n",
       "      <td>0.002091</td>\n",
       "    </tr>\n",
       "    <tr>\n",
       "      <th>988</th>\n",
       "      <td>[0.00385292182988, 0.0107934110885, 0.01079341...</td>\n",
       "      <td>0.559439</td>\n",
       "      <td>0.535841</td>\n",
       "      <td>0.023597</td>\n",
       "    </tr>\n",
       "    <tr>\n",
       "      <th>989</th>\n",
       "      <td>[0.00385292182988, 0.00645963408075, 0.0168048...</td>\n",
       "      <td>0.519543</td>\n",
       "      <td>0.494329</td>\n",
       "      <td>0.025214</td>\n",
       "    </tr>\n",
       "    <tr>\n",
       "      <th>990</th>\n",
       "      <td>[0.00385292182988, 0.00385292182988, 0.0064596...</td>\n",
       "      <td>0.553478</td>\n",
       "      <td>0.529705</td>\n",
       "      <td>0.023773</td>\n",
       "    </tr>\n",
       "    <tr>\n",
       "      <th>991</th>\n",
       "      <td>[0.00385292182988, 0.00385292182988, 0.0064596...</td>\n",
       "      <td>0.604122</td>\n",
       "      <td>0.608716</td>\n",
       "      <td>-0.004594</td>\n",
       "    </tr>\n",
       "    <tr>\n",
       "      <th>992</th>\n",
       "      <td>[0.00645963408075, 0.00645963408075, 0.0064596...</td>\n",
       "      <td>0.408641</td>\n",
       "      <td>0.378856</td>\n",
       "      <td>0.029785</td>\n",
       "    </tr>\n",
       "    <tr>\n",
       "      <th>993</th>\n",
       "      <td>[0.00385292182988, 0.00385292182988, 0.0064596...</td>\n",
       "      <td>0.522627</td>\n",
       "      <td>0.497646</td>\n",
       "      <td>0.024981</td>\n",
       "    </tr>\n",
       "    <tr>\n",
       "      <th>994</th>\n",
       "      <td>[0.00385292182988, 0.00645963408075, 0.0064596...</td>\n",
       "      <td>0.475889</td>\n",
       "      <td>0.448978</td>\n",
       "      <td>0.026911</td>\n",
       "    </tr>\n",
       "    <tr>\n",
       "      <th>995</th>\n",
       "      <td>[0.00645963408075, 0.0107934110885, 0.01680485...</td>\n",
       "      <td>0.517480</td>\n",
       "      <td>0.492185</td>\n",
       "      <td>0.025295</td>\n",
       "    </tr>\n",
       "    <tr>\n",
       "      <th>996</th>\n",
       "      <td>[0.00385292182988, 0.00385292182988, 0.0064596...</td>\n",
       "      <td>0.408626</td>\n",
       "      <td>0.405152</td>\n",
       "      <td>0.003474</td>\n",
       "    </tr>\n",
       "    <tr>\n",
       "      <th>997</th>\n",
       "      <td>[0.00385292182988, 0.00385292182988, 0.0038529...</td>\n",
       "      <td>0.506835</td>\n",
       "      <td>0.454939</td>\n",
       "      <td>0.051896</td>\n",
       "    </tr>\n",
       "    <tr>\n",
       "      <th>998</th>\n",
       "      <td>[0.00385292182988, 0.0107934110885, 0.01680485...</td>\n",
       "      <td>0.501768</td>\n",
       "      <td>0.501947</td>\n",
       "      <td>-0.000179</td>\n",
       "    </tr>\n",
       "    <tr>\n",
       "      <th>999</th>\n",
       "      <td>[0.00385292182988, 0.00645963408075, 0.0064596...</td>\n",
       "      <td>0.483724</td>\n",
       "      <td>0.457095</td>\n",
       "      <td>0.026629</td>\n",
       "    </tr>\n",
       "  </tbody>\n",
       "</table>\n",
       "<p>1000 rows × 4 columns</p>\n",
       "</div>"
      ],
      "text/plain": [
       "                                                sample      mean  \\\n",
       "0    [0.00385292182988, 0.00385292182988, 0.0064596...  0.503810   \n",
       "1    [0.0107934110885, 0.0168048554195, 0.030929411...  0.493324   \n",
       "2    [0.0107934110885, 0.0107934110885, 0.010793411...  0.459779   \n",
       "3    [0.00385292182988, 0.00385292182988, 0.0038529...  0.591447   \n",
       "4    [0.0107934110885, 0.0168048554195, 0.023184465...  0.499209   \n",
       "5    [0.00385292182988, 0.00645963408075, 0.0107934...  0.473882   \n",
       "6    [0.00385292182988, 0.0107934110885, 0.01079341...  0.559393   \n",
       "7    [0.00645963408075, 0.0107934110885, 0.01680485...  0.556548   \n",
       "8    [0.0231844659028, 0.0371379126236, 0.056325395...  0.467619   \n",
       "9    [0.0107934110885, 0.0231844659028, 0.023184465...  0.511841   \n",
       "10   [0.00385292182988, 0.0168048554195, 0.01680485...  0.484625   \n",
       "11   [0.00385292182988, 0.00645963408075, 0.0168048...  0.514379   \n",
       "12   [0.00385292182988, 0.00385292182988, 0.0064596...  0.477820   \n",
       "13   [0.00385292182988, 0.0107934110885, 0.02318446...  0.472222   \n",
       "14   [0.00645963408075, 0.00645963408075, 0.0107934...  0.549407   \n",
       "15   [0.00385292182988, 0.0107934110885, 0.01079341...  0.474366   \n",
       "16   [0.00385292182988, 0.00385292182988, 0.0064596...  0.472921   \n",
       "17   [0.00385292182988, 0.00385292182988, 0.0038529...  0.441541   \n",
       "18   [0.00385292182988, 0.0107934110885, 0.02318446...  0.548911   \n",
       "19   [0.00385292182988, 0.00385292182988, 0.0038529...  0.523002   \n",
       "20   [0.00645963408075, 0.0107934110885, 0.01079341...  0.536402   \n",
       "21   [0.00385292182988, 0.0168048554195, 0.03092941...  0.534657   \n",
       "22   [0.00385292182988, 0.00645963408075, 0.0107934...  0.486411   \n",
       "23   [0.00385292182988, 0.00645963408075, 0.0064596...  0.516149   \n",
       "24   [0.0107934110885, 0.0107934110885, 0.010793411...  0.522595   \n",
       "25   [0.00385292182988, 0.00385292182988, 0.0107934...  0.469403   \n",
       "26   [0.00385292182988, 0.00645963408075, 0.0107934...  0.497090   \n",
       "27   [0.00645963408075, 0.00645963408075, 0.0107934...  0.509404   \n",
       "28   [0.00385292182988, 0.00385292182988, 0.0038529...  0.481105   \n",
       "29   [0.00385292182988, 0.00645963408075, 0.0064596...  0.476415   \n",
       "..                                                 ...       ...   \n",
       "970  [0.00385292182988, 0.00385292182988, 0.0064596...  0.532270   \n",
       "971  [0.00385292182988, 0.00385292182988, 0.0064596...  0.539154   \n",
       "972  [0.00385292182988, 0.00645963408075, 0.0309294...  0.538599   \n",
       "973  [0.00385292182988, 0.00385292182988, 0.0064596...  0.531566   \n",
       "974  [0.00645963408075, 0.0168048554195, 0.03092941...  0.515345   \n",
       "975  [0.00385292182988, 0.00645963408075, 0.0107934...  0.505681   \n",
       "976  [0.00385292182988, 0.00385292182988, 0.0064596...  0.555418   \n",
       "977  [0.00385292182988, 0.0107934110885, 0.01079341...  0.451095   \n",
       "978  [0.00385292182988, 0.0168048554195, 0.01680485...  0.519868   \n",
       "979  [0.00385292182988, 0.0107934110885, 0.01079341...  0.531477   \n",
       "980  [0.00385292182988, 0.0309294118506, 0.03092941...  0.482663   \n",
       "981  [0.00385292182988, 0.00645963408075, 0.0064596...  0.500257   \n",
       "982  [0.00645963408075, 0.00645963408075, 0.0107934...  0.460182   \n",
       "983  [0.00385292182988, 0.0231844659028, 0.02318446...  0.457605   \n",
       "984  [0.00385292182988, 0.00645963408075, 0.0064596...  0.470171   \n",
       "985  [0.00385292182988, 0.00385292182988, 0.0038529...  0.519554   \n",
       "986  [0.00385292182988, 0.00645963408075, 0.0533998...  0.495778   \n",
       "987  [0.00385292182988, 0.00385292182988, 0.0064596...  0.445550   \n",
       "988  [0.00385292182988, 0.0107934110885, 0.01079341...  0.559439   \n",
       "989  [0.00385292182988, 0.00645963408075, 0.0168048...  0.519543   \n",
       "990  [0.00385292182988, 0.00385292182988, 0.0064596...  0.553478   \n",
       "991  [0.00385292182988, 0.00385292182988, 0.0064596...  0.604122   \n",
       "992  [0.00645963408075, 0.00645963408075, 0.0064596...  0.408641   \n",
       "993  [0.00385292182988, 0.00385292182988, 0.0064596...  0.522627   \n",
       "994  [0.00385292182988, 0.00645963408075, 0.0064596...  0.475889   \n",
       "995  [0.00645963408075, 0.0107934110885, 0.01680485...  0.517480   \n",
       "996  [0.00385292182988, 0.00385292182988, 0.0064596...  0.408626   \n",
       "997  [0.00385292182988, 0.00385292182988, 0.0038529...  0.506835   \n",
       "998  [0.00385292182988, 0.0107934110885, 0.01680485...  0.501768   \n",
       "999  [0.00385292182988, 0.00645963408075, 0.0064596...  0.483724   \n",
       "\n",
       "     trimmed_mean       mtm  \n",
       "0        0.477967  0.025843  \n",
       "1        0.493216  0.000108  \n",
       "2        0.458935  0.000844  \n",
       "3        0.543076  0.048370  \n",
       "4        0.472967  0.026242  \n",
       "5        0.446843  0.027039  \n",
       "6        0.535794  0.023599  \n",
       "7        0.506624  0.049924  \n",
       "8        0.466022  0.001598  \n",
       "9        0.486059  0.025782  \n",
       "10       0.484105  0.000520  \n",
       "11       0.462771  0.051609  \n",
       "12       0.477073  0.000747  \n",
       "13       0.445069  0.027153  \n",
       "14       0.499231  0.050176  \n",
       "15       0.447302  0.027064  \n",
       "16       0.472048  0.000873  \n",
       "17       0.439819  0.001722  \n",
       "18       0.498696  0.050215  \n",
       "19       0.471780  0.051222  \n",
       "20       0.511818  0.024584  \n",
       "21       0.483785  0.050872  \n",
       "22       0.487333 -0.000922  \n",
       "23       0.464614  0.051535  \n",
       "24       0.471211  0.051384  \n",
       "25       0.468306  0.001097  \n",
       "26       0.497119 -0.000029  \n",
       "27       0.509997 -0.000593  \n",
       "28       0.480651  0.000454  \n",
       "29       0.475704  0.000710  \n",
       "..            ...       ...  \n",
       "970      0.481434  0.050836  \n",
       "971      0.514784  0.024370  \n",
       "972      0.540602 -0.002003  \n",
       "973      0.480701  0.050865  \n",
       "974      0.516078 -0.000733  \n",
       "975      0.453710  0.051971  \n",
       "976      0.505546  0.049872  \n",
       "977      0.450359  0.000736  \n",
       "978      0.468380  0.051488  \n",
       "979      0.480535  0.050941  \n",
       "980      0.481836  0.000827  \n",
       "981      0.448059  0.052197  \n",
       "982      0.458802  0.001380  \n",
       "983      0.455937  0.001668  \n",
       "984      0.469693  0.000478  \n",
       "985      0.494445  0.025109  \n",
       "986      0.495908 -0.000130  \n",
       "987      0.443458  0.002091  \n",
       "988      0.535841  0.023597  \n",
       "989      0.494329  0.025214  \n",
       "990      0.529705  0.023773  \n",
       "991      0.608716 -0.004594  \n",
       "992      0.378856  0.029785  \n",
       "993      0.497646  0.024981  \n",
       "994      0.448978  0.026911  \n",
       "995      0.492185  0.025295  \n",
       "996      0.405152  0.003474  \n",
       "997      0.454939  0.051896  \n",
       "998      0.501947 -0.000179  \n",
       "999      0.457095  0.026629  \n",
       "\n",
       "[1000 rows x 4 columns]"
      ]
     },
     "execution_count": 4,
     "metadata": {},
     "output_type": "execute_result"
    }
   ],
   "source": [
    "b"
   ]
  },
  {
   "cell_type": "code",
   "execution_count": 5,
   "metadata": {},
   "outputs": [
    {
     "data": {
      "text/plain": [
       "(array([ 44.15958044,  17.32414309,   0.        ,   0.        ,\n",
       "         14.94631953,  49.0850721 ,   0.        ,   0.        ,\n",
       "          3.3968908 ,  40.93253417]),\n",
       " array([-0.00459381,  0.00129392,  0.00718166,  0.0130694 ,  0.01895714,\n",
       "         0.02484487,  0.03073261,  0.03662035,  0.04250808,  0.04839582,\n",
       "         0.05428356]),\n",
       " <a list of 10 Patch objects>)"
      ]
     },
     "execution_count": 5,
     "metadata": {},
     "output_type": "execute_result"
    },
    {
     "data": {
      "image/png": "[encoded data removed]",
      "text/plain": [
       "<matplotlib.figure.Figure at 0x7fcb3b408b70>"
      ]
     },
     "metadata": {},
     "output_type": "display_data"
    }
   ],
   "source": [
    "plt.hist(a['mtm'],normed=1,alpha=.3) \n",
    "plt.hist(b['mtm'],normed=1,alpha=.3) "
   ]
  },
  {
   "cell_type": "code",
   "execution_count": 6,
   "metadata": {},
   "outputs": [
    {
     "data": {
      "text/plain": [
       "1.2499999999999996"
      ]
     },
     "execution_count": 6,
     "metadata": {},
     "output_type": "execute_result"
    }
   ],
   "source": [
    "bootnormuni.find_hratio()"
   ]
  },
  {
   "cell_type": "code",
   "execution_count": 7,
   "metadata": {},
   "outputs": [
    {
     "name": "stdout",
     "output_type": "stream",
     "text": [
      "0.212851999541\n",
      "0.266064999426\n"
     ]
    }
   ],
   "source": [
    "print(bootnormuni.hcrit)\n",
    "print(bootnormuni.horig)"
   ]
  },
  {
   "cell_type": "code",
   "execution_count": 8,
   "metadata": {},
   "outputs": [
    {
     "data": {
      "text/plain": [
       "0.434782608695652"
      ]
     },
     "execution_count": 8,
     "metadata": {},
     "output_type": "execute_result"
    }
   ],
   "source": [
    "bootodduni.find_hratio()"
   ]
  },
  {
   "cell_type": "code",
   "execution_count": 9,
   "metadata": {},
   "outputs": [
    {
     "data": {
      "text/plain": [
       "(array([ 44.15958044,  17.32414309,   0.        ,   0.        ,\n",
       "         14.94631953,  49.0850721 ,   0.        ,   0.        ,\n",
       "          3.3968908 ,  40.93253417]),\n",
       " array([-0.00459381,  0.00129392,  0.00718166,  0.0130694 ,  0.01895714,\n",
       "         0.02484487,  0.03073261,  0.03662035,  0.04250808,  0.04839582,\n",
       "         0.05428356]),\n",
       " <a list of 10 Patch objects>)"
      ]
     },
     "execution_count": 9,
     "metadata": {},
     "output_type": "execute_result"
    },
    {
     "data": {
      "image/png": "[encoded data removed]",
      "text/plain": [
       "<matplotlib.figure.Figure at 0x7fcb3b75d978>"
      ]
     },
     "metadata": {},
     "output_type": "display_data"
    }
   ],
   "source": [
    "kodd = bootodduni.hcrit_kde\n",
    "x = np.arange(-0.015, 0.06, 0.001)\n",
    "plt.plot(x, kodd(x))\n",
    "plt.plot(x, bootodduni.horig_kde(x))\n",
    "plt.hist(b['mtm'],normed=1,alpha=.3) "
   ]
  },
  {
   "cell_type": "markdown",
   "metadata": {},
   "source": [
    "## Initialize normal and outlier bootliers for sine wave distribution"
   ]
  },
  {
   "cell_type": "code",
   "execution_count": 10,
   "metadata": {},
   "outputs": [],
   "source": [
    "bootnormsin = bootlier.Bootlier()\n",
    "bootoddsin = bootlier.Bootlier()\n",
    "\n",
    "s_normal = np.sin(np.arange(0,6*np.pi,0.1*np.pi))\n",
    "s_odd = np.sin(np.arange(0,6*np.pi,0.1*np.pi))\n",
    "s_odd[-1]=np.mean(s_odd)+10*np.std(s_odd)  # 10 sigma outlier at the end\n",
    "\n",
    "c = bootnormsin.boot(s_normal, 100, 1000, 2)\n",
    "d = bootoddsin.boot(s_odd, 100, 1000, 2)"
   ]
  },
  {
   "cell_type": "code",
   "execution_count": 11,
   "metadata": {},
   "outputs": [
    {
     "data": {
      "text/plain": [
       "[<matplotlib.lines.Line2D at 0x7fcb3b3bf6d8>]"
      ]
     },
     "execution_count": 11,
     "metadata": {},
     "output_type": "execute_result"
    },
    {
     "data": {
      "image/png": "[encoded data removed]",
      "text/plain": [
       "<matplotlib.figure.Figure at 0x7fcb3b3bffd0>"
      ]
     },
     "metadata": {},
     "output_type": "display_data"
    }
   ],
   "source": [
    "plt.plot(s_normal)\n",
    "plt.plot(s_odd)"
   ]
  },
  {
   "cell_type": "code",
   "execution_count": 12,
   "metadata": {
    "scrolled": true
   },
   "outputs": [
    {
     "data": {
      "text/plain": [
       "(array([ 13.18417833,   0.36622718,   0.        ,   0.        ,\n",
       "         13.18417833,   8.93594309,   0.        ,   0.        ,\n",
       "          8.78945222,  28.78545603]),\n",
       " array([-0.00732142,  0.0063313 ,  0.01998403,  0.03363676,  0.04728949,\n",
       "         0.06094222,  0.07459494,  0.08824767,  0.1019004 ,  0.11555313,\n",
       "         0.12920585]),\n",
       " <a list of 10 Patch objects>)"
      ]
     },
     "execution_count": 12,
     "metadata": {},
     "output_type": "execute_result"
    },
    {
     "data": {
      "image/png": "[encoded data removed]",
      "text/plain": [
       "<matplotlib.figure.Figure at 0x7fcb3808d4a8>"
      ]
     },
     "metadata": {},
     "output_type": "display_data"
    }
   ],
   "source": [
    "plt.hist(c['mtm'],normed=1,alpha=.3) \n",
    "plt.hist(d['mtm'],normed=1,alpha=.3) "
   ]
  },
  {
   "cell_type": "code",
   "execution_count": 13,
   "metadata": {
    "scrolled": true
   },
   "outputs": [
    {
     "data": {
      "text/plain": [
       "1.4285714285714282"
      ]
     },
     "execution_count": 13,
     "metadata": {},
     "output_type": "execute_result"
    }
   ],
   "source": [
    "bootnormsin.find_hratio()"
   ]
  },
  {
   "cell_type": "code",
   "execution_count": 14,
   "metadata": {},
   "outputs": [
    {
     "data": {
      "text/plain": [
       "(array([   4.5971267 ,   10.72662897,   46.48205885,   89.89936657,\n",
       "         133.82746615,  116.46054306,   71.00006792,   27.07196834,\n",
       "           8.17266969,    2.55395928]),\n",
       " array([-0.0093118 , -0.00735406, -0.00539631, -0.00343857, -0.00148082,\n",
       "         0.00047692,  0.00243467,  0.00439241,  0.00635016,  0.0083079 ,\n",
       "         0.01026565]),\n",
       " <a list of 10 Patch objects>)"
      ]
     },
     "execution_count": 14,
     "metadata": {},
     "output_type": "execute_result"
    },
    {
     "data": {
      "image/png": "[encoded data removed]",
      "text/plain": [
       "<matplotlib.figure.Figure at 0x7fcb382a47b8>"
      ]
     },
     "metadata": {},
     "output_type": "display_data"
    }
   ],
   "source": [
    "knorm = bootnormsin.hcrit_kde\n",
    "x = np.arange(-0.015, 0.035, 0.001)\n",
    "plt.plot(x, knorm(x))\n",
    "plt.hist(c['mtm'],normed=1,alpha=.3) "
   ]
  },
  {
   "cell_type": "code",
   "execution_count": 15,
   "metadata": {
    "scrolled": true
   },
   "outputs": [
    {
     "data": {
      "text/plain": [
       "0.49999999999999978"
      ]
     },
     "execution_count": 15,
     "metadata": {},
     "output_type": "execute_result"
    }
   ],
   "source": [
    "bootoddsin.find_hratio()"
   ]
  },
  {
   "cell_type": "code",
   "execution_count": 16,
   "metadata": {},
   "outputs": [
    {
     "data": {
      "text/plain": [
       "(array([ 13.18417833,   0.36622718,   0.        ,   0.        ,\n",
       "         13.18417833,   8.93594309,   0.        ,   0.        ,\n",
       "          8.78945222,  28.78545603]),\n",
       " array([-0.00732142,  0.0063313 ,  0.01998403,  0.03363676,  0.04728949,\n",
       "         0.06094222,  0.07459494,  0.08824767,  0.1019004 ,  0.11555313,\n",
       "         0.12920585]),\n",
       " <a list of 10 Patch objects>)"
      ]
     },
     "execution_count": 16,
     "metadata": {},
     "output_type": "execute_result"
    },
    {
     "data": {
      "image/png": "[encoded data removed]",
      "text/plain": [
       "<matplotlib.figure.Figure at 0x7fcb37f75c88>"
      ]
     },
     "metadata": {},
     "output_type": "display_data"
    }
   ],
   "source": [
    "kodd = bootoddsin.hcrit_kde\n",
    "x = np.arange(-0.015, 0.14, 0.001)\n",
    "plt.plot(x, kodd(x))\n",
    "plt.plot(x, bootoddsin.horig_kde(x))\n",
    "plt.hist(d['mtm'],normed=1,alpha=.3) "
   ]
  },
  {
   "cell_type": "markdown",
   "metadata": {},
   "source": [
    "## 3 sigma sine wave"
   ]
  },
  {
   "cell_type": "code",
   "execution_count": 17,
   "metadata": {},
   "outputs": [],
   "source": [
    "bootnormsin = bootlier.Bootlier()\n",
    "bootoddsin = bootlier.Bootlier()\n",
    "\n",
    "s_normal = np.sin(np.arange(0,6*np.pi,0.1*np.pi))\n",
    "s_odd = np.sin(np.arange(0,6*np.pi,0.1*np.pi))\n",
    "s_odd[-1]=np.mean(s_odd)+3*np.std(s_odd)  # 3 sigma outlier at the end\n",
    "\n",
    "e = bootnormsin.boot(s_normal, 100, 1000, 2)\n",
    "f = bootoddsin.boot(s_odd, 100, 1000, 2)"
   ]
  },
  {
   "cell_type": "code",
   "execution_count": 18,
   "metadata": {},
   "outputs": [
    {
     "data": {
      "text/plain": [
       "[<matplotlib.lines.Line2D at 0x7fcb3824a7b8>]"
      ]
     },
     "execution_count": 18,
     "metadata": {},
     "output_type": "execute_result"
    },
    {
     "data": {
      "image/png": "[encoded data removed]",
      "text/plain": [
       "<matplotlib.figure.Figure at 0x7fcb3824a898>"
      ]
     },
     "metadata": {},
     "output_type": "display_data"
    }
   ],
   "source": [
    "plt.plot(s_normal)\n",
    "plt.plot(s_odd)"
   ]
  },
  {
   "cell_type": "code",
   "execution_count": 19,
   "metadata": {},
   "outputs": [
    {
     "data": {
      "text/plain": [
       "(array([  1.82300103,  14.58400823,  22.91772722,  14.84443695,\n",
       "         30.20973133,  37.50173545,  24.48029953,  56.7734606 ,\n",
       "         47.13759802,  10.15672002]),\n",
       " array([-0.00930097, -0.00546114, -0.00162132,  0.0022185 ,  0.00605832,\n",
       "         0.00989815,  0.01373797,  0.01757779,  0.02141761,  0.02525744,\n",
       "         0.02909726]),\n",
       " <a list of 10 Patch objects>)"
      ]
     },
     "execution_count": 19,
     "metadata": {},
     "output_type": "execute_result"
    },
    {
     "data": {
      "image/png": "[encoded data removed]",
      "text/plain": [
       "<matplotlib.figure.Figure at 0x7fcb37d63550>"
      ]
     },
     "metadata": {},
     "output_type": "display_data"
    }
   ],
   "source": [
    "plt.hist(e['mtm'],normed=1,alpha=.3) \n",
    "plt.hist(f['mtm'],normed=1,alpha=.3) "
   ]
  },
  {
   "cell_type": "code",
   "execution_count": 20,
   "metadata": {},
   "outputs": [
    {
     "data": {
      "text/plain": [
       "1.6666666666666665"
      ]
     },
     "execution_count": 20,
     "metadata": {},
     "output_type": "execute_result"
    }
   ],
   "source": [
    "bootnormsin.find_hratio()"
   ]
  },
  {
   "cell_type": "code",
   "execution_count": 21,
   "metadata": {},
   "outputs": [
    {
     "data": {
      "text/plain": [
       "(array([   6.56331995,   10.39192325,   54.6943329 ,   93.52730926,\n",
       "         134.00111561,  117.04587241,   82.58844268,   32.81659974,\n",
       "          10.39192325,    4.92248996]),\n",
       " array([-0.00879777, -0.00696942, -0.00514108, -0.00331274, -0.00148439,\n",
       "         0.00034395,  0.00217229,  0.00400063,  0.00582898,  0.00765732,\n",
       "         0.00948566]),\n",
       " <a list of 10 Patch objects>)"
      ]
     },
     "execution_count": 21,
     "metadata": {},
     "output_type": "execute_result"
    },
    {
     "data": {
      "image/png": "[encoded data removed]",
      "text/plain": [
       "<matplotlib.figure.Figure at 0x7fcb3808d978>"
      ]
     },
     "metadata": {},
     "output_type": "display_data"
    }
   ],
   "source": [
    "knorm = bootnormsin.hcrit_kde\n",
    "x = np.arange(-0.015, 0.035, 0.001)\n",
    "plt.plot(x, knorm(x))\n",
    "plt.hist(e['mtm'],normed=1,alpha=.3) "
   ]
  },
  {
   "cell_type": "code",
   "execution_count": 22,
   "metadata": {},
   "outputs": [
    {
     "data": {
      "text/plain": [
       "0.71428571428571408"
      ]
     },
     "execution_count": 22,
     "metadata": {},
     "output_type": "execute_result"
    }
   ],
   "source": [
    "bootoddsin.find_hratio()"
   ]
  },
  {
   "cell_type": "code",
   "execution_count": 23,
   "metadata": {},
   "outputs": [
    {
     "data": {
      "text/plain": [
       "(array([  1.82300103,  14.58400823,  22.91772722,  14.84443695,\n",
       "         30.20973133,  37.50173545,  24.48029953,  56.7734606 ,\n",
       "         47.13759802,  10.15672002]),\n",
       " array([-0.00930097, -0.00546114, -0.00162132,  0.0022185 ,  0.00605832,\n",
       "         0.00989815,  0.01373797,  0.01757779,  0.02141761,  0.02525744,\n",
       "         0.02909726]),\n",
       " <a list of 10 Patch objects>)"
      ]
     },
     "execution_count": 23,
     "metadata": {},
     "output_type": "execute_result"
    },
    {
     "data": {
      "image/png": "[encoded data removed]",
      "text/plain": [
       "<matplotlib.figure.Figure at 0x7fcb381832b0>"
      ]
     },
     "metadata": {},
     "output_type": "display_data"
    }
   ],
   "source": [
    "kodd = bootoddsin.hcrit_kde\n",
    "x = np.arange(-0.015, 0.035, 0.001)\n",
    "plt.plot(x, kodd(x))\n",
    "plt.plot(x, bootoddsin.horig_kde(x))\n",
    "plt.hist(f['mtm'],normed=1,alpha=.3) "
   ]
  },
  {
   "cell_type": "markdown",
   "metadata": {},
   "source": [
    "## 5 sigma sine wave plus noise"
   ]
  },
  {
   "cell_type": "code",
   "execution_count": 24,
   "metadata": {},
   "outputs": [],
   "source": [
    "bootnormsin = bootlier.Bootlier()\n",
    "bootoddsin = bootlier.Bootlier()\n",
    "\n",
    "s_signal = np.sin(np.arange(0,10*np.pi,0.1*np.pi))\n",
    "s_noise = np.random.normal(0,0.5,len(s_signal))\n",
    "s_normal = s_signal + s_noise\n",
    "\n",
    "s_signal = np.sin(np.arange(0,10*np.pi,0.1*np.pi))\n",
    "s_noise = np.random.normal(0,0.5,len(s_signal))\n",
    "s_odd = s_signal + s_noise\n",
    "s_odd[-1]=np.mean(s_odd)+5*np.std(s_odd)  # 5 sigma outlier at the end\n",
    "\n",
    "g = bootnormsin.boot(s_normal, 100, 1000, 2)\n",
    "h = bootoddsin.boot(s_odd, 100, 1000, 2)"
   ]
  },
  {
   "cell_type": "code",
   "execution_count": 25,
   "metadata": {},
   "outputs": [
    {
     "data": {
      "text/plain": [
       "[<matplotlib.lines.Line2D at 0x7fcb37d68978>]"
      ]
     },
     "execution_count": 25,
     "metadata": {},
     "output_type": "execute_result"
    },
    {
     "data": {
      "image/png": "[encoded data removed]",
      "text/plain": [
       "<matplotlib.figure.Figure at 0x7fcb37d686a0>"
      ]
     },
     "metadata": {},
     "output_type": "display_data"
    }
   ],
   "source": [
    "plt.plot(s_normal)\n",
    "plt.plot(s_odd)"
   ]
  },
  {
   "cell_type": "code",
   "execution_count": 26,
   "metadata": {},
   "outputs": [
    {
     "data": {
      "text/plain": [
       "(array([ 10.63970871,  27.5380696 ,   7.26003653,   1.37690348,\n",
       "         19.7773409 ,  20.15286003,   1.75242261,   9.88867045,\n",
       "         23.40735916,   3.37967218]),\n",
       " array([ -1.60202324e-02,  -8.03129187e-03,  -4.23513549e-05,\n",
       "          7.94658916e-03,   1.59355297e-02,   2.39244702e-02,\n",
       "          3.19134107e-02,   3.99023512e-02,   4.78912917e-02,\n",
       "          5.58802323e-02,   6.38691728e-02]),\n",
       " <a list of 10 Patch objects>)"
      ]
     },
     "execution_count": 26,
     "metadata": {},
     "output_type": "execute_result"
    },
    {
     "data": {
      "image/png": "[encoded data removed]",
      "text/plain": [
       "<matplotlib.figure.Figure at 0x7fcb37a25978>"
      ]
     },
     "metadata": {},
     "output_type": "display_data"
    }
   ],
   "source": [
    "plt.hist(g['mtm'],normed=1,alpha=.3) \n",
    "plt.hist(h['mtm'],normed=1,alpha=.3) "
   ]
  },
  {
   "cell_type": "code",
   "execution_count": 27,
   "metadata": {},
   "outputs": [
    {
     "data": {
      "text/plain": [
       "1.2499999999999996"
      ]
     },
     "execution_count": 27,
     "metadata": {},
     "output_type": "execute_result"
    }
   ],
   "source": [
    "bootnormsin.find_hratio()"
   ]
  },
  {
   "cell_type": "code",
   "execution_count": 28,
   "metadata": {},
   "outputs": [
    {
     "data": {
      "text/plain": [
       "(array([   3.02054286,    6.04108572,   34.52048983,   71.63001639,\n",
       "         104.42448172,  102.69845723,   67.74646128,   27.61639186,\n",
       "          11.21915919,    2.58903674]),\n",
       " array([-0.01350595, -0.01118848, -0.00887102, -0.00655356, -0.00423609,\n",
       "        -0.00191863,  0.00039884,  0.0027163 ,  0.00503376,  0.00735123,\n",
       "         0.00966869]),\n",
       " <a list of 10 Patch objects>)"
      ]
     },
     "execution_count": 28,
     "metadata": {},
     "output_type": "execute_result"
    },
    {
     "data": {
      "image/png": "[encoded data removed]",
      "text/plain": [
       "<matplotlib.figure.Figure at 0x7fcb3818a7b8>"
      ]
     },
     "metadata": {},
     "output_type": "display_data"
    }
   ],
   "source": [
    "knorm = bootnormsin.hcrit_kde\n",
    "x = np.arange(-0.025, 0.035, 0.001)\n",
    "plt.plot(x, knorm(x))\n",
    "plt.hist(g['mtm'],normed=1,alpha=.3) "
   ]
  },
  {
   "cell_type": "code",
   "execution_count": 29,
   "metadata": {},
   "outputs": [
    {
     "data": {
      "text/plain": [
       "0.434782608695652"
      ]
     },
     "execution_count": 29,
     "metadata": {},
     "output_type": "execute_result"
    }
   ],
   "source": [
    "bootoddsin.find_hratio()"
   ]
  },
  {
   "cell_type": "code",
   "execution_count": 30,
   "metadata": {},
   "outputs": [
    {
     "data": {
      "text/plain": [
       "(array([ 10.63970871,  27.5380696 ,   7.26003653,   1.37690348,\n",
       "         19.7773409 ,  20.15286003,   1.75242261,   9.88867045,\n",
       "         23.40735916,   3.37967218]),\n",
       " array([ -1.60202324e-02,  -8.03129187e-03,  -4.23513549e-05,\n",
       "          7.94658916e-03,   1.59355297e-02,   2.39244702e-02,\n",
       "          3.19134107e-02,   3.99023512e-02,   4.78912917e-02,\n",
       "          5.58802323e-02,   6.38691728e-02]),\n",
       " <a list of 10 Patch objects>)"
      ]
     },
     "execution_count": 30,
     "metadata": {},
     "output_type": "execute_result"
    },
    {
     "data": {
      "image/png": "[encoded data removed]",
      "text/plain": [
       "<matplotlib.figure.Figure at 0x7fcb37e576a0>"
      ]
     },
     "metadata": {},
     "output_type": "display_data"
    }
   ],
   "source": [
    "kodd = bootoddsin.hcrit_kde\n",
    "x = np.arange(-0.015, 0.06, 0.001)\n",
    "plt.plot(x, kodd(x))\n",
    "plt.plot(x, bootoddsin.horig_kde(x))\n",
    "plt.hist(h['mtm'],normed=1,alpha=.3) "
   ]
  },
  {
   "cell_type": "code",
   "execution_count": null,
   "metadata": {},
   "outputs": [],
   "source": []
  }
 ],
 "metadata": {
  "kernelspec": {
   "display_name": "Python 3",
   "language": "python",
   "name": "python3"
  },
  "language_info": {
   "codemirror_mode": {
    "name": "ipython",
    "version": 3
   },
   "file_extension": ".py",
   "mimetype": "text/x-python",
   "name": "python",
   "nbconvert_exporter": "python",
   "pygments_lexer": "ipython3",
   "version": "3.6.3"
  }
 },
 "nbformat": 4,
 "nbformat_minor": 2
}
